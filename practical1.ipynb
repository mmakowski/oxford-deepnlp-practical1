{
 "cells": [
  {
   "cell_type": "markdown",
   "metadata": {},
   "source": [
    "## Practical 1: word2vec\n",
    "<p>Oxford CS - Deep NLP 2017<br>\n",
    "https://www.cs.ox.ac.uk/teaching/courses/2016-2017/dl/</p>\n",
    "<p>[Yannis Assael, Brendan Shillingford, Chris Dyer]</p>"
   ]
  },
  {
   "cell_type": "markdown",
   "metadata": {},
   "source": [
    "This practical is presented as an IPython Notebook, with the code written for recent versions of **Python 3**. The code in this practical will not work with Python 2 unless you modify it. If you are using your own Python installation, ensure you have a setup identical to that described in the installation shell script (which is intended for use with the department lab machines). We will be unable to support installation on personal machines due to time constraints, so please use the lab machines and the setup script if you are unfamiliar with how to install Anaconda.\n",
    "\n",
    "To execute a notebook cell, press `shift-enter`. The return value of the last command will be displayed, if it is not `None`.\n",
    "\n",
    "Potentially useful library documentation, references, and resources:\n",
    "\n",
    "* IPython notebooks: <https://ipython.org/ipython-doc/3/notebook/notebook.html#introduction>\n",
    "* Numpy numerical array library: <https://docs.scipy.org/doc/>\n",
    "* Gensim's word2vec: <https://radimrehurek.com/gensim/models/word2vec.html>\n",
    "* Bokeh interactive plots: <http://bokeh.pydata.org/en/latest/> (we provide plotting code here, but click the thumbnails for more examples to copy-paste)\n",
    "* scikit-learn ML library (aka `sklearn`): <http://scikit-learn.org/stable/documentation.html>\n",
    "* nltk NLP toolkit: <http://www.nltk.org/>\n",
    "* tutorial for processing xml in python using `lxml`: <http://lxml.de/tutorial.html> (we did this for you below, but in case you need it in the future)"
   ]
  },
  {
   "cell_type": "code",
   "execution_count": 1,
   "metadata": {
    "collapsed": false
   },
   "outputs": [],
   "source": [
    "import numpy as np\n",
    "import os\n",
    "from random import shuffle\n",
    "import re"
   ]
  },
  {
   "cell_type": "code",
   "execution_count": 2,
   "metadata": {
    "collapsed": false
   },
   "outputs": [
    {
     "data": {
      "text/html": [
       "\n",
       "    <div class=\"bk-root\">\n",
       "        <a href=\"http://bokeh.pydata.org\" target=\"_blank\" class=\"bk-logo bk-logo-small bk-logo-notebook\"></a>\n",
       "        <span id=\"4bf2ce4f-0977-4f9f-bf3b-766a99cc00e1\">Loading BokehJS ...</span>\n",
       "    </div>"
      ]
     },
     "metadata": {},
     "output_type": "display_data"
    },
    {
     "data": {
      "application/javascript": [
       "\n",
       "(function(global) {\n",
       "  function now() {\n",
       "    return new Date();\n",
       "  }\n",
       "\n",
       "  var force = true;\n",
       "\n",
       "  if (typeof (window._bokeh_onload_callbacks) === \"undefined\" || force === true) {\n",
       "    window._bokeh_onload_callbacks = [];\n",
       "    window._bokeh_is_loading = undefined;\n",
       "  }\n",
       "\n",
       "\n",
       "  \n",
       "  if (typeof (window._bokeh_timeout) === \"undefined\" || force === true) {\n",
       "    window._bokeh_timeout = Date.now() + 5000;\n",
       "    window._bokeh_failed_load = false;\n",
       "  }\n",
       "\n",
       "  var NB_LOAD_WARNING = {'data': {'text/html':\n",
       "     \"<div style='background-color: #fdd'>\\n\"+\n",
       "     \"<p>\\n\"+\n",
       "     \"BokehJS does not appear to have successfully loaded. If loading BokehJS from CDN, this \\n\"+\n",
       "     \"may be due to a slow or bad network connection. Possible fixes:\\n\"+\n",
       "     \"</p>\\n\"+\n",
       "     \"<ul>\\n\"+\n",
       "     \"<li>re-rerun `output_notebook()` to attempt to load from CDN again, or</li>\\n\"+\n",
       "     \"<li>use INLINE resources instead, as so:</li>\\n\"+\n",
       "     \"</ul>\\n\"+\n",
       "     \"<code>\\n\"+\n",
       "     \"from bokeh.resources import INLINE\\n\"+\n",
       "     \"output_notebook(resources=INLINE)\\n\"+\n",
       "     \"</code>\\n\"+\n",
       "     \"</div>\"}};\n",
       "\n",
       "  function display_loaded() {\n",
       "    if (window.Bokeh !== undefined) {\n",
       "      document.getElementById(\"4bf2ce4f-0977-4f9f-bf3b-766a99cc00e1\").textContent = \"BokehJS successfully loaded.\";\n",
       "    } else if (Date.now() < window._bokeh_timeout) {\n",
       "      setTimeout(display_loaded, 100)\n",
       "    }\n",
       "  }\n",
       "\n",
       "  function run_callbacks() {\n",
       "    window._bokeh_onload_callbacks.forEach(function(callback) { callback() });\n",
       "    delete window._bokeh_onload_callbacks\n",
       "    console.info(\"Bokeh: all callbacks have finished\");\n",
       "  }\n",
       "\n",
       "  function load_libs(js_urls, callback) {\n",
       "    window._bokeh_onload_callbacks.push(callback);\n",
       "    if (window._bokeh_is_loading > 0) {\n",
       "      console.log(\"Bokeh: BokehJS is being loaded, scheduling callback at\", now());\n",
       "      return null;\n",
       "    }\n",
       "    if (js_urls == null || js_urls.length === 0) {\n",
       "      run_callbacks();\n",
       "      return null;\n",
       "    }\n",
       "    console.log(\"Bokeh: BokehJS not loaded, scheduling load and callback at\", now());\n",
       "    window._bokeh_is_loading = js_urls.length;\n",
       "    for (var i = 0; i < js_urls.length; i++) {\n",
       "      var url = js_urls[i];\n",
       "      var s = document.createElement('script');\n",
       "      s.src = url;\n",
       "      s.async = false;\n",
       "      s.onreadystatechange = s.onload = function() {\n",
       "        window._bokeh_is_loading--;\n",
       "        if (window._bokeh_is_loading === 0) {\n",
       "          console.log(\"Bokeh: all BokehJS libraries loaded\");\n",
       "          run_callbacks()\n",
       "        }\n",
       "      };\n",
       "      s.onerror = function() {\n",
       "        console.warn(\"failed to load library \" + url);\n",
       "      };\n",
       "      console.log(\"Bokeh: injecting script tag for BokehJS library: \", url);\n",
       "      document.getElementsByTagName(\"head\")[0].appendChild(s);\n",
       "    }\n",
       "  };var element = document.getElementById(\"4bf2ce4f-0977-4f9f-bf3b-766a99cc00e1\");\n",
       "  if (element == null) {\n",
       "    console.log(\"Bokeh: ERROR: autoload.js configured with elementid '4bf2ce4f-0977-4f9f-bf3b-766a99cc00e1' but no matching script tag was found. \")\n",
       "    return false;\n",
       "  }\n",
       "\n",
       "  var js_urls = [\"https://cdn.pydata.org/bokeh/release/bokeh-0.12.4.min.js\", \"https://cdn.pydata.org/bokeh/release/bokeh-widgets-0.12.4.min.js\"];\n",
       "\n",
       "  var inline_js = [\n",
       "    function(Bokeh) {\n",
       "      Bokeh.set_log_level(\"info\");\n",
       "    },\n",
       "    \n",
       "    function(Bokeh) {\n",
       "      \n",
       "      document.getElementById(\"4bf2ce4f-0977-4f9f-bf3b-766a99cc00e1\").textContent = \"BokehJS is loading...\";\n",
       "    },\n",
       "    function(Bokeh) {\n",
       "      console.log(\"Bokeh: injecting CSS: https://cdn.pydata.org/bokeh/release/bokeh-0.12.4.min.css\");\n",
       "      Bokeh.embed.inject_css(\"https://cdn.pydata.org/bokeh/release/bokeh-0.12.4.min.css\");\n",
       "      console.log(\"Bokeh: injecting CSS: https://cdn.pydata.org/bokeh/release/bokeh-widgets-0.12.4.min.css\");\n",
       "      Bokeh.embed.inject_css(\"https://cdn.pydata.org/bokeh/release/bokeh-widgets-0.12.4.min.css\");\n",
       "    }\n",
       "  ];\n",
       "\n",
       "  function run_inline_js() {\n",
       "    \n",
       "    if ((window.Bokeh !== undefined) || (force === true)) {\n",
       "      for (var i = 0; i < inline_js.length; i++) {\n",
       "        inline_js[i](window.Bokeh);\n",
       "      }if (force === true) {\n",
       "        display_loaded();\n",
       "      }} else if (Date.now() < window._bokeh_timeout) {\n",
       "      setTimeout(run_inline_js, 100);\n",
       "    } else if (!window._bokeh_failed_load) {\n",
       "      console.log(\"Bokeh: BokehJS failed to load within specified timeout.\");\n",
       "      window._bokeh_failed_load = true;\n",
       "    } else if (force !== true) {\n",
       "      var cell = $(document.getElementById(\"4bf2ce4f-0977-4f9f-bf3b-766a99cc00e1\")).parents('.cell').data().cell;\n",
       "      cell.output_area.append_execute_result(NB_LOAD_WARNING)\n",
       "    }\n",
       "\n",
       "  }\n",
       "\n",
       "  if (window._bokeh_is_loading === 0) {\n",
       "    console.log(\"Bokeh: BokehJS loaded, going straight to plotting\");\n",
       "    run_inline_js();\n",
       "  } else {\n",
       "    load_libs(js_urls, function() {\n",
       "      console.log(\"Bokeh: BokehJS plotting callback run at\", now());\n",
       "      run_inline_js();\n",
       "    });\n",
       "  }\n",
       "}(this));"
      ]
     },
     "metadata": {},
     "output_type": "display_data"
    }
   ],
   "source": [
    "from bokeh.models import ColumnDataSource, LabelSet\n",
    "from bokeh.plotting import figure, show, output_file\n",
    "from bokeh.io import output_notebook\n",
    "output_notebook()"
   ]
  },
  {
   "cell_type": "markdown",
   "metadata": {},
   "source": [
    "### Part 0: Download the TED dataset"
   ]
  },
  {
   "cell_type": "code",
   "execution_count": 4,
   "metadata": {
    "collapsed": false
   },
   "outputs": [],
   "source": [
    "import urllib.request\n",
    "import zipfile\n",
    "import lxml.etree"
   ]
  },
  {
   "cell_type": "code",
   "execution_count": 5,
   "metadata": {
    "collapsed": false
   },
   "outputs": [],
   "source": [
    "# Download the dataset if it's not already there: this may take a minute as it is 75MB\n",
    "if not os.path.isfile('ted_en-20160408.zip'):\n",
    "    urllib.request.urlretrieve(\"https://wit3.fbk.eu/get.php?path=XML_releases/xml/ted_en-20160408.zip&filename=ted_en-20160408.zip\", filename=\"ted_en-20160408.zip\")"
   ]
  },
  {
   "cell_type": "code",
   "execution_count": 6,
   "metadata": {
    "collapsed": true
   },
   "outputs": [],
   "source": [
    "# For now, we're only interested in the subtitle text, so let's extract that from the XML:\n",
    "with zipfile.ZipFile('ted_en-20160408.zip', 'r') as z:\n",
    "    doc = lxml.etree.parse(z.open('ted_en-20160408.xml', 'r'))\n",
    "input_text = '\\n'.join(doc.xpath('//content/text()'))\n",
    "del doc"
   ]
  },
  {
   "cell_type": "markdown",
   "metadata": {},
   "source": [
    "### Part 1: Preprocessing\n",
    "\n",
    "In this part, we attempt to clean up the raw subtitles a bit, so that we get only sentences. The following substring shows examples of what we're trying to get rid of. Since it's hard to define precisely what we want to get rid of, we'll just use some simple heuristics."
   ]
  },
  {
   "cell_type": "code",
   "execution_count": 7,
   "metadata": {
    "collapsed": false,
    "scrolled": false
   },
   "outputs": [
    {
     "data": {
      "text/plain": [
       "' baby does.\\n(Video) Hyowon Gweon: See this? (Ball squeaks) Did you see that? (Ball squeaks) Cool. See this one? (Ball squeaks) Wow.\\nLaura Schulz: Told you. (Laughs)\\n(Vide'"
      ]
     },
     "execution_count": 7,
     "metadata": {},
     "output_type": "execute_result"
    }
   ],
   "source": [
    "i = input_text.find(\"Hyowon Gweon: See this?\")\n",
    "input_text[i-20:i+150]"
   ]
  },
  {
   "cell_type": "markdown",
   "metadata": {},
   "source": [
    "Let's start by removing all parenthesized strings using a regex:"
   ]
  },
  {
   "cell_type": "code",
   "execution_count": 8,
   "metadata": {
    "collapsed": true
   },
   "outputs": [],
   "source": [
    "input_text_noparens = re.sub(r'\\([^)]*\\)', '', input_text)"
   ]
  },
  {
   "cell_type": "markdown",
   "metadata": {},
   "source": [
    "We can verify the same location in the text is now clean as follows. We won't worry about the irregular spaces since we'll later split the text into sentences and tokenize it anyway."
   ]
  },
  {
   "cell_type": "code",
   "execution_count": 9,
   "metadata": {
    "collapsed": false
   },
   "outputs": [
    {
     "data": {
      "text/plain": [
       "\"hat the baby does.\\n Hyowon Gweon: See this?  Did you see that?  Cool. See this one?  Wow.\\nLaura Schulz: Told you. \\n HG: See this one?  Hey Clara, this one's for you. You \""
      ]
     },
     "execution_count": 9,
     "metadata": {},
     "output_type": "execute_result"
    }
   ],
   "source": [
    "i = input_text_noparens.find(\"Hyowon Gweon: See this?\")\n",
    "input_text_noparens[i-20:i+150]"
   ]
  },
  {
   "cell_type": "markdown",
   "metadata": {},
   "source": [
    "Now, let's attempt to remove speakers' names that occur at the beginning of a line, by deleting pieces of the form \"`<up to 20 characters>:`\", as shown in this example. Of course, this is an imperfect heuristic. "
   ]
  },
  {
   "cell_type": "code",
   "execution_count": 10,
   "metadata": {
    "collapsed": false
   },
   "outputs": [
    {
     "data": {
      "text/plain": [
       "[\"Here are two reasons companies fail: they only do more of the same, or they only do what's new\",\n",
       " 'To me the real, real solution to quality growth is figuring out the balance between two activities: exploration and exploitation',\n",
       " ' Both are necessary, but it can be too much of a good thing',\n",
       " 'Consider Facit',\n",
       " \" I'm actually old enough to remember them\"]"
      ]
     },
     "execution_count": 10,
     "metadata": {},
     "output_type": "execute_result"
    }
   ],
   "source": [
    "sentences_strings_ted = []\n",
    "for line in input_text_noparens.split('\\n'):\n",
    "    m = re.match(r'^(?:(?P<precolon>[^:]{,20}):)?(?P<postcolon>.*)$', line)\n",
    "    sentences_strings_ted.extend(sent for sent in m.groupdict()['postcolon'].split('.') if sent)\n",
    "\n",
    "# Uncomment if you need to save some RAM: these strings are about 50MB.\n",
    "# del input_text, input_text_noparens\n",
    "\n",
    "# Let's view the first few:\n",
    "sentences_strings_ted[:5]"
   ]
  },
  {
   "cell_type": "markdown",
   "metadata": {},
   "source": [
    "Now that we have sentences, we're ready to tokenize each of them into words. This tokenization is imperfect, of course. For instance, how many tokens is \"can't\", and where/how do we split it? We'll take the simplest naive approach of splitting on spaces. Before splitting, we remove non-alphanumeric characters, such as punctuation. You may want to consider the following question: why do we replace these characters with spaces rather than deleting them? Think of a case where this yields a different answer."
   ]
  },
  {
   "cell_type": "code",
   "execution_count": 11,
   "metadata": {
    "collapsed": false
   },
   "outputs": [],
   "source": [
    "sentences_ted = []\n",
    "for sent_str in sentences_strings_ted:\n",
    "    tokens = re.sub(r\"[^a-z0-9]+\", \" \", sent_str.lower()).split()\n",
    "    sentences_ted.append(tokens)"
   ]
  },
  {
   "cell_type": "markdown",
   "metadata": {},
   "source": [
    "Two sample processed sentences:"
   ]
  },
  {
   "cell_type": "code",
   "execution_count": 12,
   "metadata": {
    "collapsed": false
   },
   "outputs": [
    {
     "data": {
      "text/plain": [
       "266694"
      ]
     },
     "execution_count": 12,
     "metadata": {},
     "output_type": "execute_result"
    }
   ],
   "source": [
    "len(sentences_ted)"
   ]
  },
  {
   "cell_type": "code",
   "execution_count": 13,
   "metadata": {
    "collapsed": false
   },
   "outputs": [
    {
     "name": "stdout",
     "output_type": "stream",
     "text": [
      "['here', 'are', 'two', 'reasons', 'companies', 'fail', 'they', 'only', 'do', 'more', 'of', 'the', 'same', 'or', 'they', 'only', 'do', 'what', 's', 'new']\n",
      "['to', 'me', 'the', 'real', 'real', 'solution', 'to', 'quality', 'growth', 'is', 'figuring', 'out', 'the', 'balance', 'between', 'two', 'activities', 'exploration', 'and', 'exploitation']\n"
     ]
    }
   ],
   "source": [
    "print(sentences_ted[0])\n",
    "print(sentences_ted[1])"
   ]
  },
  {
   "cell_type": "markdown",
   "metadata": {},
   "source": [
    "### Part 2: Word Frequencies"
   ]
  },
  {
   "cell_type": "markdown",
   "metadata": {},
   "source": [
    "If you store the counts of the top 1000 words in a list called `counts_ted_top1000`, the code below will plot the histogram requested in the writeup."
   ]
  },
  {
   "cell_type": "code",
   "execution_count": 14,
   "metadata": {
    "collapsed": false
   },
   "outputs": [],
   "source": [
    "import collections\n",
    "\n",
    "counts_ted_top1000 = [c for (w, c) in collections.Counter([w for s in sentences_ted for w in s]).most_common(1000)]"
   ]
  },
  {
   "cell_type": "markdown",
   "metadata": {},
   "source": [
    "Plot distribution of top-1000 words"
   ]
  },
  {
   "cell_type": "code",
   "execution_count": 15,
   "metadata": {
    "collapsed": false
   },
   "outputs": [
    {
     "data": {
      "text/html": [
       "\n",
       "\n",
       "    <div class=\"bk-root\">\n",
       "        <div class=\"bk-plotdiv\" id=\"24254464-6ebf-4f58-917e-7a4abf2990be\"></div>\n",
       "    </div>\n",
       "<script type=\"text/javascript\">\n",
       "  \n",
       "  (function(global) {\n",
       "    function now() {\n",
       "      return new Date();\n",
       "    }\n",
       "  \n",
       "    var force = false;\n",
       "  \n",
       "    if (typeof (window._bokeh_onload_callbacks) === \"undefined\" || force === true) {\n",
       "      window._bokeh_onload_callbacks = [];\n",
       "      window._bokeh_is_loading = undefined;\n",
       "    }\n",
       "  \n",
       "  \n",
       "    \n",
       "    if (typeof (window._bokeh_timeout) === \"undefined\" || force === true) {\n",
       "      window._bokeh_timeout = Date.now() + 0;\n",
       "      window._bokeh_failed_load = false;\n",
       "    }\n",
       "  \n",
       "    var NB_LOAD_WARNING = {'data': {'text/html':\n",
       "       \"<div style='background-color: #fdd'>\\n\"+\n",
       "       \"<p>\\n\"+\n",
       "       \"BokehJS does not appear to have successfully loaded. If loading BokehJS from CDN, this \\n\"+\n",
       "       \"may be due to a slow or bad network connection. Possible fixes:\\n\"+\n",
       "       \"</p>\\n\"+\n",
       "       \"<ul>\\n\"+\n",
       "       \"<li>re-rerun `output_notebook()` to attempt to load from CDN again, or</li>\\n\"+\n",
       "       \"<li>use INLINE resources instead, as so:</li>\\n\"+\n",
       "       \"</ul>\\n\"+\n",
       "       \"<code>\\n\"+\n",
       "       \"from bokeh.resources import INLINE\\n\"+\n",
       "       \"output_notebook(resources=INLINE)\\n\"+\n",
       "       \"</code>\\n\"+\n",
       "       \"</div>\"}};\n",
       "  \n",
       "    function display_loaded() {\n",
       "      if (window.Bokeh !== undefined) {\n",
       "        document.getElementById(\"24254464-6ebf-4f58-917e-7a4abf2990be\").textContent = \"BokehJS successfully loaded.\";\n",
       "      } else if (Date.now() < window._bokeh_timeout) {\n",
       "        setTimeout(display_loaded, 100)\n",
       "      }\n",
       "    }\n",
       "  \n",
       "    function run_callbacks() {\n",
       "      window._bokeh_onload_callbacks.forEach(function(callback) { callback() });\n",
       "      delete window._bokeh_onload_callbacks\n",
       "      console.info(\"Bokeh: all callbacks have finished\");\n",
       "    }\n",
       "  \n",
       "    function load_libs(js_urls, callback) {\n",
       "      window._bokeh_onload_callbacks.push(callback);\n",
       "      if (window._bokeh_is_loading > 0) {\n",
       "        console.log(\"Bokeh: BokehJS is being loaded, scheduling callback at\", now());\n",
       "        return null;\n",
       "      }\n",
       "      if (js_urls == null || js_urls.length === 0) {\n",
       "        run_callbacks();\n",
       "        return null;\n",
       "      }\n",
       "      console.log(\"Bokeh: BokehJS not loaded, scheduling load and callback at\", now());\n",
       "      window._bokeh_is_loading = js_urls.length;\n",
       "      for (var i = 0; i < js_urls.length; i++) {\n",
       "        var url = js_urls[i];\n",
       "        var s = document.createElement('script');\n",
       "        s.src = url;\n",
       "        s.async = false;\n",
       "        s.onreadystatechange = s.onload = function() {\n",
       "          window._bokeh_is_loading--;\n",
       "          if (window._bokeh_is_loading === 0) {\n",
       "            console.log(\"Bokeh: all BokehJS libraries loaded\");\n",
       "            run_callbacks()\n",
       "          }\n",
       "        };\n",
       "        s.onerror = function() {\n",
       "          console.warn(\"failed to load library \" + url);\n",
       "        };\n",
       "        console.log(\"Bokeh: injecting script tag for BokehJS library: \", url);\n",
       "        document.getElementsByTagName(\"head\")[0].appendChild(s);\n",
       "      }\n",
       "    };var element = document.getElementById(\"24254464-6ebf-4f58-917e-7a4abf2990be\");\n",
       "    if (element == null) {\n",
       "      console.log(\"Bokeh: ERROR: autoload.js configured with elementid '24254464-6ebf-4f58-917e-7a4abf2990be' but no matching script tag was found. \")\n",
       "      return false;\n",
       "    }\n",
       "  \n",
       "    var js_urls = [];\n",
       "  \n",
       "    var inline_js = [\n",
       "      function(Bokeh) {\n",
       "        (function() {\n",
       "          var fn = function() {\n",
       "            var docs_json = {\"a96050c3-e4c2-401b-95f9-1f1af539d7a5\":{\"roots\":{\"references\":[{\"attributes\":{},\"id\":\"06b6c991-59ee-4700-8467-24375a8054b8\",\"type\":\"ToolEvents\"},{\"attributes\":{\"plot\":{\"id\":\"9052f039-01fd-42a7-be08-1ea9f0865452\",\"subtype\":\"Figure\",\"type\":\"Plot\"}},\"id\":\"d4899251-07a9-442f-8319-366b04636723\",\"type\":\"PanTool\"},{\"attributes\":{\"plot\":{\"id\":\"9052f039-01fd-42a7-be08-1ea9f0865452\",\"subtype\":\"Figure\",\"type\":\"Plot\"}},\"id\":\"8cc5dfc5-a9df-4b27-85ec-e626988dd79c\",\"type\":\"SaveTool\"},{\"attributes\":{\"below\":[{\"id\":\"a4dd9f8e-ebed-4d76-9700-ccdd46091a90\",\"type\":\"LinearAxis\"}],\"left\":[{\"id\":\"83bbf07a-772d-4a02-85a7-e6f26486e67a\",\"type\":\"LinearAxis\"}],\"renderers\":[{\"id\":\"a4dd9f8e-ebed-4d76-9700-ccdd46091a90\",\"type\":\"LinearAxis\"},{\"id\":\"b252e05c-9908-4224-8adf-feaff8f67071\",\"type\":\"Grid\"},{\"id\":\"83bbf07a-772d-4a02-85a7-e6f26486e67a\",\"type\":\"LinearAxis\"},{\"id\":\"370ee18b-54ba-4a94-a394-096b965e7db4\",\"type\":\"Grid\"},{\"id\":\"721485ff-434c-4cd1-b891-95f11bed4cfa\",\"type\":\"GlyphRenderer\"}],\"title\":{\"id\":\"d18508f2-fccf-4d5d-bfe0-53daf2cf9756\",\"type\":\"Title\"},\"tool_events\":{\"id\":\"06b6c991-59ee-4700-8467-24375a8054b8\",\"type\":\"ToolEvents\"},\"toolbar\":{\"id\":\"706cae02-535a-4c69-83e6-a5c065d88fb3\",\"type\":\"Toolbar\"},\"toolbar_location\":\"above\",\"x_range\":{\"id\":\"57388e82-b9a4-4f69-8bd2-231403a805c9\",\"type\":\"DataRange1d\"},\"y_range\":{\"id\":\"d0815162-a23f-4f4c-bd98-7f740fbc8a4d\",\"type\":\"DataRange1d\"}},\"id\":\"9052f039-01fd-42a7-be08-1ea9f0865452\",\"subtype\":\"Figure\",\"type\":\"Plot\"},{\"attributes\":{\"plot\":null,\"text\":\"Top-1000 words distribution\"},\"id\":\"d18508f2-fccf-4d5d-bfe0-53daf2cf9756\",\"type\":\"Title\"},{\"attributes\":{},\"id\":\"47a416ef-bb3a-453d-88eb-6765b820332a\",\"type\":\"BasicTicker\"},{\"attributes\":{\"dimension\":1,\"plot\":{\"id\":\"9052f039-01fd-42a7-be08-1ea9f0865452\",\"subtype\":\"Figure\",\"type\":\"Plot\"},\"ticker\":{\"id\":\"af036d6f-2021-4912-a0f3-5ae5ac74e84f\",\"type\":\"BasicTicker\"}},\"id\":\"370ee18b-54ba-4a94-a394-096b965e7db4\",\"type\":\"Grid\"},{\"attributes\":{},\"id\":\"02068660-fbd5-49cb-b81b-1ee28af24a75\",\"type\":\"BasicTickFormatter\"},{\"attributes\":{\"formatter\":{\"id\":\"60443054-095b-4267-a667-723be94229f4\",\"type\":\"BasicTickFormatter\"},\"plot\":{\"id\":\"9052f039-01fd-42a7-be08-1ea9f0865452\",\"subtype\":\"Figure\",\"type\":\"Plot\"},\"ticker\":{\"id\":\"47a416ef-bb3a-453d-88eb-6765b820332a\",\"type\":\"BasicTicker\"}},\"id\":\"a4dd9f8e-ebed-4d76-9700-ccdd46091a90\",\"type\":\"LinearAxis\"},{\"attributes\":{\"active_drag\":\"auto\",\"active_scroll\":\"auto\",\"active_tap\":\"auto\",\"tools\":[{\"id\":\"d4899251-07a9-442f-8319-366b04636723\",\"type\":\"PanTool\"},{\"id\":\"d3dcdaa4-73bf-47b6-a4bd-67244a3ed466\",\"type\":\"WheelZoomTool\"},{\"id\":\"f163f219-cf59-452a-9e0a-b5e55ffa378c\",\"type\":\"ResetTool\"},{\"id\":\"8cc5dfc5-a9df-4b27-85ec-e626988dd79c\",\"type\":\"SaveTool\"}]},\"id\":\"706cae02-535a-4c69-83e6-a5c065d88fb3\",\"type\":\"Toolbar\"},{\"attributes\":{\"plot\":{\"id\":\"9052f039-01fd-42a7-be08-1ea9f0865452\",\"subtype\":\"Figure\",\"type\":\"Plot\"}},\"id\":\"f163f219-cf59-452a-9e0a-b5e55ffa378c\",\"type\":\"ResetTool\"},{\"attributes\":{},\"id\":\"60443054-095b-4267-a667-723be94229f4\",\"type\":\"BasicTickFormatter\"},{\"attributes\":{\"plot\":{\"id\":\"9052f039-01fd-42a7-be08-1ea9f0865452\",\"subtype\":\"Figure\",\"type\":\"Plot\"}},\"id\":\"d3dcdaa4-73bf-47b6-a4bd-67244a3ed466\",\"type\":\"WheelZoomTool\"},{\"attributes\":{\"formatter\":{\"id\":\"02068660-fbd5-49cb-b81b-1ee28af24a75\",\"type\":\"BasicTickFormatter\"},\"plot\":{\"id\":\"9052f039-01fd-42a7-be08-1ea9f0865452\",\"subtype\":\"Figure\",\"type\":\"Plot\"},\"ticker\":{\"id\":\"af036d6f-2021-4912-a0f3-5ae5ac74e84f\",\"type\":\"BasicTicker\"}},\"id\":\"83bbf07a-772d-4a02-85a7-e6f26486e67a\",\"type\":\"LinearAxis\"},{\"attributes\":{\"data_source\":{\"id\":\"c71671ba-ea3a-4202-90d8-c1a0e0e1c098\",\"type\":\"ColumnDataSource\"},\"glyph\":{\"id\":\"1ce9d76f-7011-443f-84ec-f867fab0c630\",\"type\":\"Quad\"},\"hover_glyph\":null,\"nonselection_glyph\":{\"id\":\"ca42d60d-1b90-4cae-9a19-12aabca5c766\",\"type\":\"Quad\"},\"selection_glyph\":null},\"id\":\"721485ff-434c-4cd1-b891-95f11bed4cfa\",\"type\":\"GlyphRenderer\"},{\"attributes\":{},\"id\":\"af036d6f-2021-4912-a0f3-5ae5ac74e84f\",\"type\":\"BasicTicker\"},{\"attributes\":{\"callback\":null},\"id\":\"d0815162-a23f-4f4c-bd98-7f740fbc8a4d\",\"type\":\"DataRange1d\"},{\"attributes\":{\"bottom\":{\"value\":0},\"fill_alpha\":{\"value\":0.1},\"fill_color\":{\"value\":\"#1f77b4\"},\"left\":{\"field\":\"left\"},\"line_alpha\":{\"value\":0.1},\"line_color\":{\"value\":\"#1f77b4\"},\"right\":{\"field\":\"right\"},\"top\":{\"field\":\"top\"}},\"id\":\"ca42d60d-1b90-4cae-9a19-12aabca5c766\",\"type\":\"Quad\"},{\"attributes\":{\"plot\":{\"id\":\"9052f039-01fd-42a7-be08-1ea9f0865452\",\"subtype\":\"Figure\",\"type\":\"Plot\"},\"ticker\":{\"id\":\"47a416ef-bb3a-453d-88eb-6765b820332a\",\"type\":\"BasicTicker\"}},\"id\":\"b252e05c-9908-4224-8adf-feaff8f67071\",\"type\":\"Grid\"},{\"attributes\":{\"bottom\":{\"value\":0},\"fill_color\":{\"value\":\"#1f77b4\"},\"left\":{\"field\":\"left\"},\"line_color\":{\"value\":\"#555555\"},\"right\":{\"field\":\"right\"},\"top\":{\"field\":\"top\"}},\"id\":\"1ce9d76f-7011-443f-84ec-f867fab0c630\",\"type\":\"Quad\"},{\"attributes\":{\"callback\":null},\"id\":\"57388e82-b9a4-4f69-8bd2-231403a805c9\",\"type\":\"DataRange1d\"},{\"attributes\":{\"callback\":null,\"column_names\":[\"left\",\"top\",\"right\"],\"data\":{\"left\":{\"__ndarray__\":\"AAAAAABAeUB7FK5H4VqjQHsUrkfhxrFAuB6F61HguUB7FK5H4fzAQJqZmZmZCcVAuB6F61EWyUDXo3A9CiPNQHsUrkfhl9BACtejcD2e0kCamZmZmaTUQClcj8L1qtZAuB6F61Gx2EBI4XoUrrfaQNejcD0KvtxAZ2ZmZmbE3kB7FK5HYWXgQMP1KFyPaOFACtejcL1r4kBSuB6F627jQJqZmZkZcuRA4XoUrkd15UApXI/CdXjmQHE9Cteje+dAuB6F69F+6EAAAAAAAILpQEjhehQuhepAkML1KFyI60DXo3A9iovsQB+F61G4ju1AZ2ZmZuaR7kCuR+F6FJXvQHsUrkchTPBAH4XrUbjN8EDD9ShcT0/xQGdmZmbm0PFACtejcH1S8kCuR+F6FNTyQFK4HoWrVfNA9ihcj0LX80CamZmZ2Vj0QD4K16Nw2vRA4XoUrgdc9UCF61G4nt31QClcj8I1X/ZAzczMzMzg9kBxPQrXY2L3QBWuR+H64/dAuB6F65Fl+EBcj8L1KOf4QAAAAADAaPlApHA9Clfq+UBI4XoU7mv6QOxRuB6F7fpAkML1KBxv+0AzMzMzs/D7QNejcD1KcvxAexSuR+Hz/EAfhetReHX9QMP1KFwP9/1AZ2ZmZqZ4/kAK16NwPfr+QK5H4XrUe/9AUrgehWv9/0B7FK5HgT8AQc3MzMxMgABBH4XrURjBAEFxPQrX4wEBQcP1KFyvQgFBFa5H4XqDAUFnZmZmRsQBQbgehesRBQJBCtejcN1FAkFcj8L1qIYCQa5H4Xp0xwJBAAAAAEAIA0FSuB6FC0kDQaRwPQrXiQNB9ihcj6LKA0FI4XoUbgsEQZqZmZk5TARB7FG4HgWNBEE+Ctej0M0EQZDC9SicDgVB4XoUrmdPBUEzMzMzM5AFQYXrUbj+0AVB16NwPcoRBkEpXI/ClVIGQXsUrkdhkwZBzczMzCzUBkEfhetR+BQHQXE9CtfDVQdBw/UoXI+WB0EVrkfhWtcHQWdmZmYmGAhBuB6F6/FYCEEK16NwvZkIQVyPwvWI2ghBrkfhelQbCUE=\",\"dtype\":\"float64\",\"shape\":[100]},\"right\":{\"__ndarray__\":\"exSuR+Fao0B7FK5H4caxQLgehetR4LlAexSuR+H8wECamZmZmQnFQLgehetRFslA16NwPQojzUB7FK5H4ZfQQArXo3A9ntJAmpmZmZmk1EApXI/C9arWQLgehetRsdhASOF6FK632kDXo3A9Cr7cQGdmZmZmxN5AexSuR2Fl4EDD9Shcj2jhQArXo3C9a+JAUrgehetu40CamZmZGXLkQOF6FK5HdeVAKVyPwnV45kBxPQrXo3vnQLgehevRfuhAAAAAAACC6UBI4XoULoXqQJDC9ShciOtA16NwPYqL7EAfhetRuI7tQGdmZmbmke5ArkfhehSV70B7FK5HIUzwQB+F61G4zfBAw/UoXE9P8UBnZmZm5tDxQArXo3B9UvJArkfhehTU8kBSuB6Fq1XzQPYoXI9C1/NAmpmZmdlY9EA+CtejcNr0QOF6FK4HXPVAhetRuJ7d9UApXI/CNV/2QM3MzMzM4PZAcT0K12Ni90AVrkfh+uP3QLgeheuRZfhAXI/C9Sjn+EAAAAAAwGj5QKRwPQpX6vlASOF6FO5r+kDsUbgehe36QJDC9Sgcb/tAMzMzM7Pw+0DXo3A9SnL8QHsUrkfh8/xAH4XrUXh1/UDD9ShcD/f9QGdmZmameP5ACtejcD36/kCuR+F61Hv/QFK4HoVr/f9AexSuR4E/AEHNzMzMTIAAQR+F61EYwQBBcT0K1+MBAUHD9Shcr0IBQRWuR+F6gwFBZ2ZmZkbEAUG4HoXrEQUCQQrXo3DdRQJBXI/C9aiGAkGuR+F6dMcCQQAAAABACANBUrgehQtJA0GkcD0K14kDQfYoXI+iygNBSOF6FG4LBEGamZmZOUwEQexRuB4FjQRBPgrXo9DNBEGQwvUonA4FQeF6FK5nTwVBMzMzMzOQBUGF61G4/tAFQdejcD3KEQZBKVyPwpVSBkF7FK5HYZMGQc3MzMws1AZBH4XrUfgUB0FxPQrXw1UHQcP1KFyPlgdBFa5H4VrXB0FnZmZmJhgIQbgehevxWAhBCtejcL2ZCEFcj8L1iNoIQa5H4XpUGwlBAAAAACBcCUE=\",\"dtype\":\"float64\",\"shape\":[100]},\"top\":{\"__ndarray__\":\"50H1zNSBOT/ypb1tgHIBPwsriUb5Uew+zuTFiLI04j78kGUPxTHhPh40R25oQNY+zuTFiLI00j4pPQWW1y7APsTbB2FDRsg+JT0FltcuwD4tPQWW1y6wPi09BZbXLrA+JT0FltcuwD4tPQWW1y6gPiU9BZbXLrA+LT0FltcuoD4AAAAAAAAAADU9BZbXLqA+AAAAAAAAAAAAAAAAAAAAAAAAAAAAAAAAAAAAAAAAAAAAAAAAAAAAADU9BZbXLqA+AAAAAAAAAAAAAAAAAAAAAAAAAAAAAAAANT0FltcuoD4AAAAAAAAAAAAAAAAAAAAANT0FltcuoD4AAAAAAAAAACU9BZbXLqA+AAAAAAAAAAAlPQWW1y6gPkU9BZbXLqA+AAAAAAAAAAAlPQWW1y6gPgAAAAAAAAAAJT0FltcuoD4AAAAAAAAAAAAAAAAAAAAAAAAAAAAAAAAAAAAAAAAAAAAAAAAAAAAAJT0FltcuoD4AAAAAAAAAAAAAAAAAAAAAAAAAAAAAAAAAAAAAAAAAACU9BZbXLqA+AAAAAAAAAAAAAAAAAAAAAAAAAAAAAAAAAAAAAAAAAAAlPQWW1y6gPgAAAAAAAAAAAAAAAAAAAAAAAAAAAAAAAAAAAAAAAAAART0FltcuoD4AAAAAAAAAAAAAAAAAAAAAAAAAAAAAAAAAAAAAAAAAAAAAAAAAAAAAAAAAAAAAAAAAAAAAAAAAAAAAAAAAAAAAAAAAAAAAAAAAAAAAAAAAACU9BZbXLqA+AAAAAAAAAAAAAAAAAAAAAAAAAAAAAAAAAAAAAAAAAAAAAAAAAAAAAAAAAAAAAAAAAAAAAAAAAAAAAAAAAAAAAAAAAAAAAAAAAAAAAAAAAAAAAAAAAAAAAAAAAAAAAAAAAAAAAAAAAAAAAAAAAAAAAAAAAAAAAAAAAAAAAAAAAAAAAAAAAAAAAAAAAAAAAAAAAAAAAAAAAAAAAAAAAAAAAAAAAAAAAAAAAAAAAAAAAAAAAAAAAAAAAAAAAAAAAAAAAAAAAAAAAAAAAAAAAAAAAAAAAAAAAAAAJT0FltcuoD4=\",\"dtype\":\"float64\",\"shape\":[100]}}},\"id\":\"c71671ba-ea3a-4202-90d8-c1a0e0e1c098\",\"type\":\"ColumnDataSource\"}],\"root_ids\":[\"9052f039-01fd-42a7-be08-1ea9f0865452\"]},\"title\":\"Bokeh Application\",\"version\":\"0.12.4\"}};\n",
       "            var render_items = [{\"docid\":\"a96050c3-e4c2-401b-95f9-1f1af539d7a5\",\"elementid\":\"24254464-6ebf-4f58-917e-7a4abf2990be\",\"modelid\":\"9052f039-01fd-42a7-be08-1ea9f0865452\"}];\n",
       "            \n",
       "            Bokeh.embed.embed_items(docs_json, render_items);\n",
       "          };\n",
       "          if (document.readyState != \"loading\") fn();\n",
       "          else document.addEventListener(\"DOMContentLoaded\", fn);\n",
       "        })();\n",
       "      },\n",
       "      function(Bokeh) {\n",
       "      }\n",
       "    ];\n",
       "  \n",
       "    function run_inline_js() {\n",
       "      \n",
       "      if ((window.Bokeh !== undefined) || (force === true)) {\n",
       "        for (var i = 0; i < inline_js.length; i++) {\n",
       "          inline_js[i](window.Bokeh);\n",
       "        }if (force === true) {\n",
       "          display_loaded();\n",
       "        }} else if (Date.now() < window._bokeh_timeout) {\n",
       "        setTimeout(run_inline_js, 100);\n",
       "      } else if (!window._bokeh_failed_load) {\n",
       "        console.log(\"Bokeh: BokehJS failed to load within specified timeout.\");\n",
       "        window._bokeh_failed_load = true;\n",
       "      } else if (force !== true) {\n",
       "        var cell = $(document.getElementById(\"24254464-6ebf-4f58-917e-7a4abf2990be\")).parents('.cell').data().cell;\n",
       "        cell.output_area.append_execute_result(NB_LOAD_WARNING)\n",
       "      }\n",
       "  \n",
       "    }\n",
       "  \n",
       "    if (window._bokeh_is_loading === 0) {\n",
       "      console.log(\"Bokeh: BokehJS loaded, going straight to plotting\");\n",
       "      run_inline_js();\n",
       "    } else {\n",
       "      load_libs(js_urls, function() {\n",
       "        console.log(\"Bokeh: BokehJS plotting callback run at\", now());\n",
       "        run_inline_js();\n",
       "      });\n",
       "    }\n",
       "  }(this));\n",
       "</script>"
      ]
     },
     "metadata": {},
     "output_type": "display_data"
    }
   ],
   "source": [
    "hist, edges = np.histogram(counts_ted_top1000, density=True, bins=100, normed=True)\n",
    "\n",
    "p = figure(tools=\"pan,wheel_zoom,reset,save\",\n",
    "           toolbar_location=\"above\",\n",
    "           title=\"Top-1000 words distribution\")\n",
    "p.quad(top=hist, bottom=0, left=edges[:-1], right=edges[1:], line_color=\"#555555\")\n",
    "show(p)"
   ]
  },
  {
   "cell_type": "markdown",
   "metadata": {},
   "source": [
    "### Part 3: Train Word2Vec"
   ]
  },
  {
   "cell_type": "code",
   "execution_count": 16,
   "metadata": {
    "collapsed": false
   },
   "outputs": [],
   "source": [
    "from gensim.models import Word2Vec"
   ]
  },
  {
   "cell_type": "code",
   "execution_count": 17,
   "metadata": {
    "collapsed": true
   },
   "outputs": [],
   "source": [
    "model_ted = Word2Vec(sentences_ted, size=100, window=5, min_count=5, workers=4)"
   ]
  },
  {
   "cell_type": "markdown",
   "metadata": {},
   "source": [
    "### Part 4: Ted Learnt Representations"
   ]
  },
  {
   "cell_type": "markdown",
   "metadata": {},
   "source": [
    "Finding similar words: (see gensim docs for more functionality of `most_similar`)"
   ]
  },
  {
   "cell_type": "code",
   "execution_count": 18,
   "metadata": {
    "collapsed": false
   },
   "outputs": [
    {
     "data": {
      "text/plain": [
       "[('woman', 0.8557665348052979),\n",
       " ('guy', 0.8195763826370239),\n",
       " ('lady', 0.7716540694236755),\n",
       " ('boy', 0.760416567325592),\n",
       " ('girl', 0.7462606430053711),\n",
       " ('soldier', 0.744613766670227),\n",
       " ('gentleman', 0.7437111139297485),\n",
       " ('poet', 0.7254956960678101),\n",
       " ('kid', 0.7041427493095398),\n",
       " ('rabbi', 0.665799617767334)]"
      ]
     },
     "execution_count": 18,
     "metadata": {},
     "output_type": "execute_result"
    }
   ],
   "source": [
    "model_ted.most_similar(\"man\")"
   ]
  },
  {
   "cell_type": "code",
   "execution_count": 19,
   "metadata": {
    "collapsed": false
   },
   "outputs": [
    {
     "data": {
      "text/plain": [
       "[('software', 0.733564019203186),\n",
       " ('machine', 0.7303050756454468),\n",
       " ('device', 0.6965770721435547),\n",
       " ('robot', 0.6912002563476562),\n",
       " ('3d', 0.6829040050506592),\n",
       " ('program', 0.6705853939056396),\n",
       " ('printer', 0.6605730652809143),\n",
       " ('video', 0.6556153893470764),\n",
       " ('chip', 0.644018292427063),\n",
       " ('code', 0.6379320025444031)]"
      ]
     },
     "execution_count": 19,
     "metadata": {},
     "output_type": "execute_result"
    }
   ],
   "source": [
    "model_ted.most_similar(\"computer\")"
   ]
  },
  {
   "cell_type": "code",
   "execution_count": 23,
   "metadata": {
    "collapsed": true
   },
   "outputs": [],
   "source": [
    "words_top_ted = [w for (w, c) in collections.Counter([w for s in sentences_ted for w in s]).most_common(1000)]"
   ]
  },
  {
   "cell_type": "markdown",
   "metadata": {},
   "source": [
    "#### t-SNE visualization\n",
    "To use the t-SNE code below, first put a list of the top 1000 words (as strings) into a variable `words_top_ted`. The following code gets the corresponding vectors from the model, assuming it's called `model_ted`:"
   ]
  },
  {
   "cell_type": "code",
   "execution_count": 24,
   "metadata": {
    "collapsed": false
   },
   "outputs": [],
   "source": [
    "# This assumes words_top_ted is a list of strings, the top 1000 words\n",
    "words_top_vec_ted = model_ted[words_top_ted]"
   ]
  },
  {
   "cell_type": "code",
   "execution_count": 26,
   "metadata": {
    "collapsed": false
   },
   "outputs": [],
   "source": [
    "from sklearn.manifold import TSNE\n",
    "tsne = TSNE(n_components=2, random_state=0)\n",
    "words_top_ted_tsne = tsne.fit_transform(words_top_vec_ted)"
   ]
  },
  {
   "cell_type": "code",
   "execution_count": 27,
   "metadata": {
    "collapsed": false
   },
   "outputs": [
    {
     "data": {
      "text/html": [
       "\n",
       "\n",
       "    <div class=\"bk-root\">\n",
       "        <div class=\"bk-plotdiv\" id=\"db4fa986-2d24-49ba-8dc7-ca3657a5d94a\"></div>\n",
       "    </div>\n",
       "<script type=\"text/javascript\">\n",
       "  \n",
       "  (function(global) {\n",
       "    function now() {\n",
       "      return new Date();\n",
       "    }\n",
       "  \n",
       "    var force = false;\n",
       "  \n",
       "    if (typeof (window._bokeh_onload_callbacks) === \"undefined\" || force === true) {\n",
       "      window._bokeh_onload_callbacks = [];\n",
       "      window._bokeh_is_loading = undefined;\n",
       "    }\n",
       "  \n",
       "  \n",
       "    \n",
       "    if (typeof (window._bokeh_timeout) === \"undefined\" || force === true) {\n",
       "      window._bokeh_timeout = Date.now() + 0;\n",
       "      window._bokeh_failed_load = false;\n",
       "    }\n",
       "  \n",
       "    var NB_LOAD_WARNING = {'data': {'text/html':\n",
       "       \"<div style='background-color: #fdd'>\\n\"+\n",
       "       \"<p>\\n\"+\n",
       "       \"BokehJS does not appear to have successfully loaded. If loading BokehJS from CDN, this \\n\"+\n",
       "       \"may be due to a slow or bad network connection. Possible fixes:\\n\"+\n",
       "       \"</p>\\n\"+\n",
       "       \"<ul>\\n\"+\n",
       "       \"<li>re-rerun `output_notebook()` to attempt to load from CDN again, or</li>\\n\"+\n",
       "       \"<li>use INLINE resources instead, as so:</li>\\n\"+\n",
       "       \"</ul>\\n\"+\n",
       "       \"<code>\\n\"+\n",
       "       \"from bokeh.resources import INLINE\\n\"+\n",
       "       \"output_notebook(resources=INLINE)\\n\"+\n",
       "       \"</code>\\n\"+\n",
       "       \"</div>\"}};\n",
       "  \n",
       "    function display_loaded() {\n",
       "      if (window.Bokeh !== undefined) {\n",
       "        document.getElementById(\"db4fa986-2d24-49ba-8dc7-ca3657a5d94a\").textContent = \"BokehJS successfully loaded.\";\n",
       "      } else if (Date.now() < window._bokeh_timeout) {\n",
       "        setTimeout(display_loaded, 100)\n",
       "      }\n",
       "    }\n",
       "  \n",
       "    function run_callbacks() {\n",
       "      window._bokeh_onload_callbacks.forEach(function(callback) { callback() });\n",
       "      delete window._bokeh_onload_callbacks\n",
       "      console.info(\"Bokeh: all callbacks have finished\");\n",
       "    }\n",
       "  \n",
       "    function load_libs(js_urls, callback) {\n",
       "      window._bokeh_onload_callbacks.push(callback);\n",
       "      if (window._bokeh_is_loading > 0) {\n",
       "        console.log(\"Bokeh: BokehJS is being loaded, scheduling callback at\", now());\n",
       "        return null;\n",
       "      }\n",
       "      if (js_urls == null || js_urls.length === 0) {\n",
       "        run_callbacks();\n",
       "        return null;\n",
       "      }\n",
       "      console.log(\"Bokeh: BokehJS not loaded, scheduling load and callback at\", now());\n",
       "      window._bokeh_is_loading = js_urls.length;\n",
       "      for (var i = 0; i < js_urls.length; i++) {\n",
       "        var url = js_urls[i];\n",
       "        var s = document.createElement('script');\n",
       "        s.src = url;\n",
       "        s.async = false;\n",
       "        s.onreadystatechange = s.onload = function() {\n",
       "          window._bokeh_is_loading--;\n",
       "          if (window._bokeh_is_loading === 0) {\n",
       "            console.log(\"Bokeh: all BokehJS libraries loaded\");\n",
       "            run_callbacks()\n",
       "          }\n",
       "        };\n",
       "        s.onerror = function() {\n",
       "          console.warn(\"failed to load library \" + url);\n",
       "        };\n",
       "        console.log(\"Bokeh: injecting script tag for BokehJS library: \", url);\n",
       "        document.getElementsByTagName(\"head\")[0].appendChild(s);\n",
       "      }\n",
       "    };var element = document.getElementById(\"db4fa986-2d24-49ba-8dc7-ca3657a5d94a\");\n",
       "    if (element == null) {\n",
       "      console.log(\"Bokeh: ERROR: autoload.js configured with elementid 'db4fa986-2d24-49ba-8dc7-ca3657a5d94a' but no matching script tag was found. \")\n",
       "      return false;\n",
       "    }\n",
       "  \n",
       "    var js_urls = [];\n",
       "  \n",
       "    var inline_js = [\n",
       "      function(Bokeh) {\n",
       "        (function() {\n",
       "          var fn = function() {\n",
       "            var docs_json = {\"e8727a6d-45f8-407c-be6f-e657298f65f7\":{\"roots\":{\"references\":[{\"attributes\":{\"active_drag\":\"auto\",\"active_scroll\":\"auto\",\"active_tap\":\"auto\",\"tools\":[{\"id\":\"c83d3794-b670-4c36-ade2-bad3f6352db7\",\"type\":\"PanTool\"},{\"id\":\"3e561a84-59fe-4d23-9a98-54befa328fb2\",\"type\":\"WheelZoomTool\"},{\"id\":\"0e858e02-94c8-42ef-bf17-c4f380417c46\",\"type\":\"ResetTool\"},{\"id\":\"ca29e5d3-4e73-422d-be5a-cc0839e28a4a\",\"type\":\"SaveTool\"}]},\"id\":\"91756ffd-4029-4eab-b678-3def4e49f222\",\"type\":\"Toolbar\"},{\"attributes\":{\"dimension\":1,\"plot\":{\"id\":\"2827dcdb-9064-45d0-9caf-2f413144e6b5\",\"subtype\":\"Figure\",\"type\":\"Plot\"},\"ticker\":{\"id\":\"88af8202-f2e1-40f4-aef2-cee41adb29a2\",\"type\":\"BasicTicker\"}},\"id\":\"4e06c4dd-b643-4e2f-895e-7217e62266e6\",\"type\":\"Grid\"},{\"attributes\":{},\"id\":\"88af8202-f2e1-40f4-aef2-cee41adb29a2\",\"type\":\"BasicTicker\"},{\"attributes\":{\"plot\":{\"id\":\"2827dcdb-9064-45d0-9caf-2f413144e6b5\",\"subtype\":\"Figure\",\"type\":\"Plot\"}},\"id\":\"0e858e02-94c8-42ef-bf17-c4f380417c46\",\"type\":\"ResetTool\"},{\"attributes\":{\"plot\":{\"id\":\"2827dcdb-9064-45d0-9caf-2f413144e6b5\",\"subtype\":\"Figure\",\"type\":\"Plot\"},\"source\":{\"id\":\"0039b95a-ae81-4ebe-ae5f-a226b7f1ad81\",\"type\":\"ColumnDataSource\"},\"text\":{\"field\":\"names\"},\"text_align\":\"center\",\"text_color\":{\"value\":\"#555555\"},\"text_font_size\":{\"value\":\"8pt\"},\"x\":{\"field\":\"x1\"},\"y\":{\"field\":\"x2\"},\"y_offset\":{\"value\":6}},\"id\":\"4d2f3e0c-bece-447c-8af3-bff41eed11a2\",\"type\":\"LabelSet\"},{\"attributes\":{\"callback\":null,\"column_names\":[\"x2\",\"names\",\"x1\"],\"data\":{\"names\":[\"the\",\"and\",\"to\",\"of\",\"a\",\"that\",\"i\",\"in\",\"it\",\"you\",\"we\",\"is\",\"s\",\"this\",\"so\",\"they\",\"was\",\"for\",\"are\",\"have\",\"but\",\"what\",\"on\",\"with\",\"can\",\"t\",\"about\",\"there\",\"be\",\"as\",\"at\",\"all\",\"not\",\"do\",\"my\",\"one\",\"re\",\"people\",\"like\",\"if\",\"from\",\"now\",\"our\",\"he\",\"an\",\"just\",\"these\",\"or\",\"when\",\"because\",\"very\",\"me\",\"out\",\"by\",\"them\",\"how\",\"know\",\"up\",\"going\",\"had\",\"more\",\"think\",\"who\",\"were\",\"see\",\"your\",\"their\",\"which\",\"would\",\"here\",\"really\",\"get\",\"ve\",\"then\",\"m\",\"world\",\"us\",\"time\",\"some\",\"has\",\"don\",\"actually\",\"into\",\"way\",\"where\",\"will\",\"years\",\"things\",\"other\",\"no\",\"could\",\"go\",\"well\",\"want\",\"been\",\"make\",\"right\",\"she\",\"said\",\"something\",\"those\",\"first\",\"two\",\"than\",\"much\",\"also\",\"look\",\"new\",\"thing\",\"little\",\"got\",\"back\",\"over\",\"most\",\"say\",\"even\",\"his\",\"life\",\"only\",\"work\",\"many\",\"take\",\"need\",\"did\",\"lot\",\"kind\",\"why\",\"good\",\"around\",\"every\",\"different\",\"down\",\"ll\",\"let\",\"her\",\"through\",\"same\",\"being\",\"come\",\"d\",\"day\",\"year\",\"three\",\"use\",\"doing\",\"put\",\"called\",\"any\",\"today\",\"percent\",\"made\",\"after\",\"thank\",\"tell\",\"great\",\"human\",\"find\",\"didn\",\"fact\",\"talk\",\"change\",\"started\",\"another\",\"idea\",\"big\",\"last\",\"own\",\"before\",\"its\",\"never\",\"should\",\"better\",\"give\",\"thought\",\"went\",\"might\",\"important\",\"000\",\"again\",\"able\",\"together\",\"still\",\"problem\",\"off\",\"next\",\"part\",\"course\",\"system\",\"him\",\"does\",\"each\",\"start\",\"show\",\"long\",\"ago\",\"story\",\"came\",\"brain\",\"few\",\"bit\",\"between\",\"used\",\"place\",\"technology\",\"women\",\"too\",\"old\",\"mean\",\"data\",\"water\",\"looking\",\"question\",\"maybe\",\"found\",\"love\",\"doesn\",\"end\",\"example\",\"10\",\"done\",\"point\",\"four\",\"real\",\"wanted\",\"ever\",\"school\",\"understand\",\"sort\",\"live\",\"call\",\"whole\",\"children\",\"always\",\"trying\",\"may\",\"person\",\"away\",\"believe\",\"feel\",\"try\",\"million\",\"working\",\"help\",\"everything\",\"five\",\"country\",\"thinking\",\"second\",\"using\",\"information\",\"money\",\"means\",\"power\",\"took\",\"times\",\"high\",\"space\",\"number\",\"kids\",\"home\",\"become\",\"create\",\"small\",\"design\",\"making\",\"best\",\"left\",\"getting\",\"future\",\"enough\",\"man\",\"quite\",\"city\",\"without\",\"sense\",\"happened\",\"comes\",\"social\",\"probably\",\"less\",\"light\",\"talking\",\"energy\",\"am\",\"building\",\"science\",\"food\",\"body\",\"told\",\"interesting\",\"ask\",\"half\",\"pretty\",\"play\",\"hard\",\"anything\",\"lives\",\"countries\",\"coming\",\"such\",\"family\",\"stuff\",\"dollars\",\"moment\",\"earth\",\"20\",\"imagine\",\"across\",\"side\",\"while\",\"saw\",\"happen\",\"okay\",\"once\",\"build\",\"having\",\"men\",\"later\",\"experience\",\"makes\",\"asked\",\"living\",\"says\",\"seen\",\"room\",\"hand\",\"simple\",\"health\",\"ways\",\"else\",\"case\",\"yet\",\"almost\",\"young\",\"days\",\"nothing\",\"bad\",\"care\",\"happens\",\"goes\",\"move\",\"states\",\"reason\",\"computer\",\"open\",\"africa\",\"learn\",\"process\",\"inside\",\"someone\",\"six\",\"far\",\"mind\",\"project\",\"remember\",\"single\",\"picture\",\"both\",\"whether\",\"problems\",\"basically\",\"community\",\"saying\",\"already\",\"within\",\"looked\",\"myself\",\"billion\",\"often\",\"possible\",\"business\",\"planet\",\"global\",\"everybody\",\"top\",\"sure\",\"public\",\"set\",\"wrong\",\"car\",\"book\",\"keep\",\"answer\",\"yes\",\"oh\",\"hope\",\"sometimes\",\"history\",\"true\",\"war\",\"child\",\"guy\",\"instead\",\"months\",\"ideas\",\"looks\",\"matter\",\"government\",\"amazing\",\"united\",\"since\",\"cells\",\"age\",\"bring\",\"job\",\"heard\",\"until\",\"face\",\"wasn\",\"100\",\"read\",\"control\",\"isn\",\"research\",\"30\",\"words\",\"u\",\"group\",\"under\",\"self\",\"somebody\",\"built\",\"state\",\"woman\",\"turn\",\"friends\",\"beautiful\",\"line\",\"knew\",\"couple\",\"order\",\"form\",\"yeah\",\"internet\",\"middle\",\"music\",\"piece\",\"nature\",\"head\",\"though\",\"stop\",\"everyone\",\"50\",\"places\",\"video\",\"learned\",\"language\",\"run\",\"night\",\"decided\",\"study\",\"word\",\"cancer\",\"taking\",\"works\",\"became\",\"exactly\",\"species\",\"society\",\"completely\",\"education\",\"against\",\"stories\",\"large\",\"share\",\"level\",\"heart\",\"america\",\"model\",\"gets\",\"questions\",\"mother\",\"god\",\"company\",\"turns\",\"ourselves\",\"happening\",\"hear\",\"art\",\"themselves\",\"must\",\"itself\",\"rather\",\"kinds\",\"students\",\"name\",\"hours\",\"disease\",\"front\",\"house\",\"huge\",\"couldn\",\"created\",\"universe\",\"ok\",\"animals\",\"american\",\"environment\",\"worked\",\"minutes\",\"ones\",\"black\",\"1\",\"perhaps\",\"past\",\"third\",\"along\",\"others\",\"finally\",\"early\",\"sound\",\"game\",\"thousands\",\"century\",\"least\",\"based\",\"per\",\"ted\",\"lots\",\"figure\",\"free\",\"guys\",\"particular\",\"happy\",\"news\",\"learning\",\"entire\",\"won\",\"gave\",\"machine\",\"india\",\"during\",\"systems\",\"air\",\"difference\",\"outside\",\"natural\",\"taken\",\"seven\",\"changed\",\"given\",\"leave\",\"cell\",\"15\",\"close\",\"cities\",\"behind\",\"full\",\"scale\",\"china\",\"difficult\",\"takes\",\"companies\",\"area\",\"yourself\",\"reality\",\"seeing\",\"easy\",\"turned\",\"cost\",\"eyes\",\"moving\",\"team\",\"population\",\"culture\",\"york\",\"hands\",\"began\",\"whatever\",\"terms\",\"needs\",\"image\",\"needed\",\"simply\",\"beginning\",\"father\",\"local\",\"realized\",\"media\",\"death\",\"parents\",\"view\",\"walk\",\"white\",\"market\",\"parts\",\"ocean\",\"economic\",\"eight\",\"powerful\",\"week\",\"known\",\"size\",\"felt\",\"humans\",\"certain\",\"spend\",\"longer\",\"phone\",\"wonderful\",\"cannot\",\"common\",\"grow\",\"center\",\"tried\",\"fish\",\"land\",\"oil\",\"interested\",\"political\",\"deal\",\"red\",\"gone\",\"amount\",\"weeks\",\"spent\",\"opportunity\",\"lost\",\"paper\",\"national\",\"quickly\",\"blue\",\"step\",\"poor\",\"green\",\"buy\",\"growth\",\"wouldn\",\"either\",\"patients\",\"sitting\",\"ability\",\"changes\",\"write\",\"challenge\",\"south\",\"low\",\"friend\",\"growing\",\"field\",\"2\",\"shows\",\"born\",\"rest\",\"climate\",\"40\",\"test\",\"street\",\"incredible\",\"surface\",\"average\",\"pay\",\"program\",\"morning\",\"physical\",\"value\",\"scientists\",\"met\",\"feeling\",\"hundreds\",\"behavior\",\"girl\",\"economy\",\"dna\",\"complex\",\"access\",\"risk\",\"animal\",\"structure\",\"feet\",\"attention\",\"anyone\",\"areas\",\"deep\",\"watch\",\"short\",\"absolutely\",\"brought\",\"speak\",\"bottom\",\"die\",\"numbers\",\"audience\",\"stage\",\"realize\",\"law\",\"images\",\"wrote\",\"understanding\",\"literally\",\"books\",\"knowledge\",\"movement\",\"ground\",\"giving\",\"eat\",\"force\",\"alone\",\"seems\",\"telling\",\"starting\",\"hold\",\"nice\",\"sea\",\"forward\",\"developed\",\"individual\",\"kid\",\"millions\",\"support\",\"running\",\"tools\",\"miles\",\"online\",\"result\",\"medical\",\"technologies\",\"act\",\"north\",\"lab\",\"development\",\"blood\",\"fear\",\"map\",\"nobody\",\"personal\",\"issue\",\"voice\",\"material\",\"key\",\"12\",\"recently\",\"theory\",\"cut\",\"cars\",\"fast\",\"sun\",\"changing\",\"clear\",\"playing\",\"especially\",\"girls\",\"patient\",\"soon\",\"choice\",\"fly\",\"creating\",\"relationship\",\"discovered\",\"normal\",\"talked\",\"europe\",\"gives\",\"generation\",\"dark\",\"showed\",\"type\",\"asking\",\"seem\",\"chance\",\"industry\",\"rate\",\"hour\",\"designed\",\"issues\",\"fun\",\"color\",\"innovation\",\"class\",\"university\",\"several\",\"computers\",\"tiny\",\"english\",\"save\",\"allow\",\"focus\",\"digital\",\"developing\",\"solve\",\"network\",\"film\",\"special\",\"wall\",\"baby\",\"situation\",\"solution\",\"knows\",\"box\",\"reasons\",\"dead\",\"stand\",\"meet\",\"impact\",\"haven\",\"begin\",\"anybody\",\"term\",\"beyond\",\"pictures\",\"please\",\"produce\",\"ice\",\"shape\",\"non\",\"robot\",\"cool\",\"resources\",\"likely\",\"stay\",\"groups\",\"truth\",\"available\",\"rights\",\"major\",\"obviously\",\"cause\",\"writing\",\"evidence\",\"experiment\",\"modern\",\"drug\",\"incredibly\",\"becomes\",\"aren\",\"bigger\",\"guess\",\"drugs\",\"nine\",\"product\",\"lived\",\"involved\",\"google\",\"perfect\",\"month\",\"putting\",\"similar\",\"effect\",\"eye\",\"pick\",\"message\",\"quality\",\"violence\",\"web\",\"office\",\"evolution\",\"security\",\"basic\",\"indeed\",\"solar\",\"general\",\"towards\",\"drive\",\"present\",\"send\",\"listen\",\"worth\",\"revolution\",\"explain\",\"hundred\",\"certainly\",\"died\",\"teach\",\"ready\",\"journey\",\"25\",\"hit\",\"walking\",\"led\",\"approach\",\"international\",\"200\",\"scientific\",\"games\",\"chinese\",\"crazy\",\"potential\",\"60\",\"communities\",\"device\",\"camera\",\"source\",\"carbon\",\"sex\",\"rules\",\"sounds\",\"boy\",\"reach\",\"starts\",\"examples\",\"west\",\"3\",\"success\",\"software\",\"measure\",\"particularly\",\"totally\",\"suddenly\",\"action\",\"college\",\"higher\",\"code\",\"eventually\",\"democracy\",\"among\",\"minute\",\"sit\",\"largest\",\"hospital\",\"showing\",\"period\",\"notice\",\"mass\",\"develop\",\"onto\",\"dream\",\"add\",\"break\",\"memory\",\"plants\",\"everywhere\",\"11\",\"zero\",\"favorite\",\"moved\",\"speed\",\"response\",\"schools\",\"wants\",\"individuals\",\"movie\",\"extremely\",\"wait\",\"table\",\"anyway\",\"trust\",\"medicine\",\"follow\",\"biggest\",\"plant\",\"watching\",\"organization\",\"road\",\"creative\",\"worse\",\"choose\",\"results\",\"lead\",\"500\",\"exciting\",\"materials\",\"grew\",\"jobs\",\"poverty\",\"east\",\"plan\",\"positive\",\"fall\",\"safe\",\"strong\",\"essentially\",\"door\",\"object\",\"vision\",\"son\",\"further\",\"happiness\",\"continue\",\"doctor\",\"student\",\"objects\",\"named\",\"including\",\"role\",\"extraordinary\",\"standing\",\"african\",\"usually\",\"projects\",\"conversation\",\"leaders\",\"skin\",\"models\",\"allowed\",\"supposed\",\"interest\",\"faster\",\"police\",\"families\",\"fight\",\"connected\",\"tree\",\"5\",\"screen\",\"cases\",\"goal\",\"somewhere\",\"shown\",\"finding\",\"buildings\"],\"x1\":{\"__ndarray__\":\"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\",\"dtype\":\"float64\",\"shape\":[1000]},\"x2\":{\"__ndarray__\":\"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\",\"dtype\":\"float64\",\"shape\":[1000]}}},\"id\":\"0039b95a-ae81-4ebe-ae5f-a226b7f1ad81\",\"type\":\"ColumnDataSource\"},{\"attributes\":{\"fill_color\":{\"value\":\"#1f77b4\"},\"line_color\":{\"value\":\"#1f77b4\"},\"size\":{\"units\":\"screen\",\"value\":8},\"x\":{\"field\":\"x1\"},\"y\":{\"field\":\"x2\"}},\"id\":\"f894b02e-d7c4-425a-b9c3-01efafeda9c0\",\"type\":\"Circle\"},{\"attributes\":{\"plot\":null,\"text\":\"word2vec T-SNE for most common words\"},\"id\":\"bdc9714a-95ae-44d0-aa2b-01b77c99e7d8\",\"type\":\"Title\"},{\"attributes\":{},\"id\":\"f57dd9da-3117-432d-8281-b7a69e50da56\",\"type\":\"ToolEvents\"},{\"attributes\":{\"callback\":null},\"id\":\"1c328b98-199d-4e75-ac7f-6b6de69051d6\",\"type\":\"DataRange1d\"},{\"attributes\":{\"plot\":{\"id\":\"2827dcdb-9064-45d0-9caf-2f413144e6b5\",\"subtype\":\"Figure\",\"type\":\"Plot\"}},\"id\":\"c83d3794-b670-4c36-ade2-bad3f6352db7\",\"type\":\"PanTool\"},{\"attributes\":{\"plot\":{\"id\":\"2827dcdb-9064-45d0-9caf-2f413144e6b5\",\"subtype\":\"Figure\",\"type\":\"Plot\"},\"ticker\":{\"id\":\"072db431-a63f-4089-88ee-03ef9454ea0b\",\"type\":\"BasicTicker\"}},\"id\":\"59de2bd9-d625-4272-8b04-e5dc695d1478\",\"type\":\"Grid\"},{\"attributes\":{},\"id\":\"072db431-a63f-4089-88ee-03ef9454ea0b\",\"type\":\"BasicTicker\"},{\"attributes\":{\"formatter\":{\"id\":\"894058fb-8229-4aa0-aaeb-97e0bea91dab\",\"type\":\"BasicTickFormatter\"},\"plot\":{\"id\":\"2827dcdb-9064-45d0-9caf-2f413144e6b5\",\"subtype\":\"Figure\",\"type\":\"Plot\"},\"ticker\":{\"id\":\"88af8202-f2e1-40f4-aef2-cee41adb29a2\",\"type\":\"BasicTicker\"}},\"id\":\"1b089a70-9df6-4ee9-b064-8dbd21ef1097\",\"type\":\"LinearAxis\"},{\"attributes\":{\"plot\":{\"id\":\"2827dcdb-9064-45d0-9caf-2f413144e6b5\",\"subtype\":\"Figure\",\"type\":\"Plot\"}},\"id\":\"3e561a84-59fe-4d23-9a98-54befa328fb2\",\"type\":\"WheelZoomTool\"},{\"attributes\":{\"plot\":{\"id\":\"2827dcdb-9064-45d0-9caf-2f413144e6b5\",\"subtype\":\"Figure\",\"type\":\"Plot\"}},\"id\":\"ca29e5d3-4e73-422d-be5a-cc0839e28a4a\",\"type\":\"SaveTool\"},{\"attributes\":{},\"id\":\"894058fb-8229-4aa0-aaeb-97e0bea91dab\",\"type\":\"BasicTickFormatter\"},{\"attributes\":{\"fill_alpha\":{\"value\":0.1},\"fill_color\":{\"value\":\"#1f77b4\"},\"line_alpha\":{\"value\":0.1},\"line_color\":{\"value\":\"#1f77b4\"},\"size\":{\"units\":\"screen\",\"value\":8},\"x\":{\"field\":\"x1\"},\"y\":{\"field\":\"x2\"}},\"id\":\"6a1186d9-37f8-4930-8aa7-38579fcda040\",\"type\":\"Circle\"},{\"attributes\":{\"callback\":null},\"id\":\"ee866c0b-f45e-4430-a2ae-c6987fe1abb4\",\"type\":\"DataRange1d\"},{\"attributes\":{\"formatter\":{\"id\":\"99269a41-3e6c-4cbb-9f05-67c56e8e96b0\",\"type\":\"BasicTickFormatter\"},\"plot\":{\"id\":\"2827dcdb-9064-45d0-9caf-2f413144e6b5\",\"subtype\":\"Figure\",\"type\":\"Plot\"},\"ticker\":{\"id\":\"072db431-a63f-4089-88ee-03ef9454ea0b\",\"type\":\"BasicTicker\"}},\"id\":\"1ba17784-d25f-4511-a330-7cb77982c6d8\",\"type\":\"LinearAxis\"},{\"attributes\":{\"data_source\":{\"id\":\"0039b95a-ae81-4ebe-ae5f-a226b7f1ad81\",\"type\":\"ColumnDataSource\"},\"glyph\":{\"id\":\"f894b02e-d7c4-425a-b9c3-01efafeda9c0\",\"type\":\"Circle\"},\"hover_glyph\":null,\"nonselection_glyph\":{\"id\":\"6a1186d9-37f8-4930-8aa7-38579fcda040\",\"type\":\"Circle\"},\"selection_glyph\":null},\"id\":\"2c21362a-0e39-490c-b649-3d095d6d121b\",\"type\":\"GlyphRenderer\"},{\"attributes\":{\"below\":[{\"id\":\"1ba17784-d25f-4511-a330-7cb77982c6d8\",\"type\":\"LinearAxis\"}],\"left\":[{\"id\":\"1b089a70-9df6-4ee9-b064-8dbd21ef1097\",\"type\":\"LinearAxis\"}],\"renderers\":[{\"id\":\"1ba17784-d25f-4511-a330-7cb77982c6d8\",\"type\":\"LinearAxis\"},{\"id\":\"59de2bd9-d625-4272-8b04-e5dc695d1478\",\"type\":\"Grid\"},{\"id\":\"1b089a70-9df6-4ee9-b064-8dbd21ef1097\",\"type\":\"LinearAxis\"},{\"id\":\"4e06c4dd-b643-4e2f-895e-7217e62266e6\",\"type\":\"Grid\"},{\"id\":\"2c21362a-0e39-490c-b649-3d095d6d121b\",\"type\":\"GlyphRenderer\"},{\"id\":\"4d2f3e0c-bece-447c-8af3-bff41eed11a2\",\"type\":\"LabelSet\"}],\"title\":{\"id\":\"bdc9714a-95ae-44d0-aa2b-01b77c99e7d8\",\"type\":\"Title\"},\"tool_events\":{\"id\":\"f57dd9da-3117-432d-8281-b7a69e50da56\",\"type\":\"ToolEvents\"},\"toolbar\":{\"id\":\"91756ffd-4029-4eab-b678-3def4e49f222\",\"type\":\"Toolbar\"},\"toolbar_location\":\"above\",\"x_range\":{\"id\":\"ee866c0b-f45e-4430-a2ae-c6987fe1abb4\",\"type\":\"DataRange1d\"},\"y_range\":{\"id\":\"1c328b98-199d-4e75-ac7f-6b6de69051d6\",\"type\":\"DataRange1d\"}},\"id\":\"2827dcdb-9064-45d0-9caf-2f413144e6b5\",\"subtype\":\"Figure\",\"type\":\"Plot\"},{\"attributes\":{},\"id\":\"99269a41-3e6c-4cbb-9f05-67c56e8e96b0\",\"type\":\"BasicTickFormatter\"}],\"root_ids\":[\"2827dcdb-9064-45d0-9caf-2f413144e6b5\"]},\"title\":\"Bokeh Application\",\"version\":\"0.12.4\"}};\n",
       "            var render_items = [{\"docid\":\"e8727a6d-45f8-407c-be6f-e657298f65f7\",\"elementid\":\"db4fa986-2d24-49ba-8dc7-ca3657a5d94a\",\"modelid\":\"2827dcdb-9064-45d0-9caf-2f413144e6b5\"}];\n",
       "            \n",
       "            Bokeh.embed.embed_items(docs_json, render_items);\n",
       "          };\n",
       "          if (document.readyState != \"loading\") fn();\n",
       "          else document.addEventListener(\"DOMContentLoaded\", fn);\n",
       "        })();\n",
       "      },\n",
       "      function(Bokeh) {\n",
       "      }\n",
       "    ];\n",
       "  \n",
       "    function run_inline_js() {\n",
       "      \n",
       "      if ((window.Bokeh !== undefined) || (force === true)) {\n",
       "        for (var i = 0; i < inline_js.length; i++) {\n",
       "          inline_js[i](window.Bokeh);\n",
       "        }if (force === true) {\n",
       "          display_loaded();\n",
       "        }} else if (Date.now() < window._bokeh_timeout) {\n",
       "        setTimeout(run_inline_js, 100);\n",
       "      } else if (!window._bokeh_failed_load) {\n",
       "        console.log(\"Bokeh: BokehJS failed to load within specified timeout.\");\n",
       "        window._bokeh_failed_load = true;\n",
       "      } else if (force !== true) {\n",
       "        var cell = $(document.getElementById(\"db4fa986-2d24-49ba-8dc7-ca3657a5d94a\")).parents('.cell').data().cell;\n",
       "        cell.output_area.append_execute_result(NB_LOAD_WARNING)\n",
       "      }\n",
       "  \n",
       "    }\n",
       "  \n",
       "    if (window._bokeh_is_loading === 0) {\n",
       "      console.log(\"Bokeh: BokehJS loaded, going straight to plotting\");\n",
       "      run_inline_js();\n",
       "    } else {\n",
       "      load_libs(js_urls, function() {\n",
       "        console.log(\"Bokeh: BokehJS plotting callback run at\", now());\n",
       "        run_inline_js();\n",
       "      });\n",
       "    }\n",
       "  }(this));\n",
       "</script>"
      ]
     },
     "metadata": {},
     "output_type": "display_data"
    }
   ],
   "source": [
    "p = figure(tools=\"pan,wheel_zoom,reset,save\",\n",
    "           toolbar_location=\"above\",\n",
    "           title=\"word2vec T-SNE for most common words\")\n",
    "\n",
    "source = ColumnDataSource(data=dict(x1=words_top_ted_tsne[:,0],\n",
    "                                    x2=words_top_ted_tsne[:,1],\n",
    "                                    names=words_top_ted))\n",
    "\n",
    "p.scatter(x=\"x1\", y=\"x2\", size=8, source=source)\n",
    "\n",
    "labels = LabelSet(x=\"x1\", y=\"x2\", text=\"names\", y_offset=6,\n",
    "                  text_font_size=\"8pt\", text_color=\"#555555\",\n",
    "                  source=source, text_align='center')\n",
    "p.add_layout(labels)\n",
    "\n",
    "show(p)"
   ]
  },
  {
   "cell_type": "markdown",
   "metadata": {},
   "source": [
    "### Part 5: Wiki Learnt Representations"
   ]
  },
  {
   "cell_type": "markdown",
   "metadata": {},
   "source": [
    "Download dataset"
   ]
  },
  {
   "cell_type": "code",
   "execution_count": 28,
   "metadata": {
    "collapsed": true
   },
   "outputs": [],
   "source": [
    "if not os.path.isfile('wikitext-103-raw-v1.zip'):\n",
    "    urllib.request.urlretrieve(\"https://s3.amazonaws.com/research.metamind.io/wikitext/wikitext-103-raw-v1.zip\", filename=\"wikitext-103-raw-v1.zip\")"
   ]
  },
  {
   "cell_type": "code",
   "execution_count": 35,
   "metadata": {
    "collapsed": false
   },
   "outputs": [],
   "source": [
    "with zipfile.ZipFile('wikitext-103-raw-v1.zip', 'r') as z:\n",
    "    input_text = str(z.open('wikitext-103-raw/wiki.train.raw', 'r').read(), encoding='utf-8') # Thanks Robert Bastian"
   ]
  },
  {
   "cell_type": "markdown",
   "metadata": {},
   "source": [
    "Preprocess sentences (note that it's important to remove small sentences for performance)"
   ]
  },
  {
   "cell_type": "code",
   "execution_count": 36,
   "metadata": {
    "collapsed": false
   },
   "outputs": [],
   "source": [
    "sentences_wiki = []\n",
    "for line in input_text.split('\\n'):\n",
    "    s = [x for x in line.split('.') if x and len(x.split()) >= 5]\n",
    "    sentences_wiki.extend(s)\n",
    "    \n",
    "for s_i in range(len(sentences_wiki)):\n",
    "    sentences_wiki[s_i] = re.sub(\"[^a-z]\", \" \", sentences_wiki[s_i].lower())\n",
    "    sentences_wiki[s_i] = re.sub(r'\\([^)]*\\)', '', sentences_wiki[s_i]).split()\n",
    "del input_text"
   ]
  },
  {
   "cell_type": "code",
   "execution_count": 37,
   "metadata": {
    "collapsed": false
   },
   "outputs": [
    {
     "name": "stdout",
     "output_type": "stream",
     "text": [
      "4267112\n",
      "853422\n"
     ]
    }
   ],
   "source": [
    "# sample 1/5 of the data\n",
    "shuffle(sentences_wiki)\n",
    "print(len(sentences_wiki))\n",
    "sentences_wiki = sentences_wiki[:int(len(sentences_wiki)/5)]\n",
    "print(len(sentences_wiki))"
   ]
  },
  {
   "cell_type": "markdown",
   "metadata": {},
   "source": [
    "Now, repeat all the same steps that you performed above. You should be able to reuse essentially all the code."
   ]
  },
  {
   "cell_type": "code",
   "execution_count": 38,
   "metadata": {
    "collapsed": true
   },
   "outputs": [],
   "source": [
    "counts_wiki_top1000 = [c for (w, c) in collections.Counter([w for s in sentences_wiki for w in s]).most_common(1000)]"
   ]
  },
  {
   "cell_type": "code",
   "execution_count": 40,
   "metadata": {
    "collapsed": false
   },
   "outputs": [
    {
     "data": {
      "text/html": [
       "\n",
       "\n",
       "    <div class=\"bk-root\">\n",
       "        <div class=\"bk-plotdiv\" id=\"fabcac6f-25d0-480e-819e-0dba750d1ef5\"></div>\n",
       "    </div>\n",
       "<script type=\"text/javascript\">\n",
       "  \n",
       "  (function(global) {\n",
       "    function now() {\n",
       "      return new Date();\n",
       "    }\n",
       "  \n",
       "    var force = false;\n",
       "  \n",
       "    if (typeof (window._bokeh_onload_callbacks) === \"undefined\" || force === true) {\n",
       "      window._bokeh_onload_callbacks = [];\n",
       "      window._bokeh_is_loading = undefined;\n",
       "    }\n",
       "  \n",
       "  \n",
       "    \n",
       "    if (typeof (window._bokeh_timeout) === \"undefined\" || force === true) {\n",
       "      window._bokeh_timeout = Date.now() + 0;\n",
       "      window._bokeh_failed_load = false;\n",
       "    }\n",
       "  \n",
       "    var NB_LOAD_WARNING = {'data': {'text/html':\n",
       "       \"<div style='background-color: #fdd'>\\n\"+\n",
       "       \"<p>\\n\"+\n",
       "       \"BokehJS does not appear to have successfully loaded. If loading BokehJS from CDN, this \\n\"+\n",
       "       \"may be due to a slow or bad network connection. Possible fixes:\\n\"+\n",
       "       \"</p>\\n\"+\n",
       "       \"<ul>\\n\"+\n",
       "       \"<li>re-rerun `output_notebook()` to attempt to load from CDN again, or</li>\\n\"+\n",
       "       \"<li>use INLINE resources instead, as so:</li>\\n\"+\n",
       "       \"</ul>\\n\"+\n",
       "       \"<code>\\n\"+\n",
       "       \"from bokeh.resources import INLINE\\n\"+\n",
       "       \"output_notebook(resources=INLINE)\\n\"+\n",
       "       \"</code>\\n\"+\n",
       "       \"</div>\"}};\n",
       "  \n",
       "    function display_loaded() {\n",
       "      if (window.Bokeh !== undefined) {\n",
       "        document.getElementById(\"fabcac6f-25d0-480e-819e-0dba750d1ef5\").textContent = \"BokehJS successfully loaded.\";\n",
       "      } else if (Date.now() < window._bokeh_timeout) {\n",
       "        setTimeout(display_loaded, 100)\n",
       "      }\n",
       "    }\n",
       "  \n",
       "    function run_callbacks() {\n",
       "      window._bokeh_onload_callbacks.forEach(function(callback) { callback() });\n",
       "      delete window._bokeh_onload_callbacks\n",
       "      console.info(\"Bokeh: all callbacks have finished\");\n",
       "    }\n",
       "  \n",
       "    function load_libs(js_urls, callback) {\n",
       "      window._bokeh_onload_callbacks.push(callback);\n",
       "      if (window._bokeh_is_loading > 0) {\n",
       "        console.log(\"Bokeh: BokehJS is being loaded, scheduling callback at\", now());\n",
       "        return null;\n",
       "      }\n",
       "      if (js_urls == null || js_urls.length === 0) {\n",
       "        run_callbacks();\n",
       "        return null;\n",
       "      }\n",
       "      console.log(\"Bokeh: BokehJS not loaded, scheduling load and callback at\", now());\n",
       "      window._bokeh_is_loading = js_urls.length;\n",
       "      for (var i = 0; i < js_urls.length; i++) {\n",
       "        var url = js_urls[i];\n",
       "        var s = document.createElement('script');\n",
       "        s.src = url;\n",
       "        s.async = false;\n",
       "        s.onreadystatechange = s.onload = function() {\n",
       "          window._bokeh_is_loading--;\n",
       "          if (window._bokeh_is_loading === 0) {\n",
       "            console.log(\"Bokeh: all BokehJS libraries loaded\");\n",
       "            run_callbacks()\n",
       "          }\n",
       "        };\n",
       "        s.onerror = function() {\n",
       "          console.warn(\"failed to load library \" + url);\n",
       "        };\n",
       "        console.log(\"Bokeh: injecting script tag for BokehJS library: \", url);\n",
       "        document.getElementsByTagName(\"head\")[0].appendChild(s);\n",
       "      }\n",
       "    };var element = document.getElementById(\"fabcac6f-25d0-480e-819e-0dba750d1ef5\");\n",
       "    if (element == null) {\n",
       "      console.log(\"Bokeh: ERROR: autoload.js configured with elementid 'fabcac6f-25d0-480e-819e-0dba750d1ef5' but no matching script tag was found. \")\n",
       "      return false;\n",
       "    }\n",
       "  \n",
       "    var js_urls = [];\n",
       "  \n",
       "    var inline_js = [\n",
       "      function(Bokeh) {\n",
       "        (function() {\n",
       "          var fn = function() {\n",
       "            var docs_json = {\"7d28fbc1-9217-40ca-9e9c-9dfd4be2753a\":{\"roots\":{\"references\":[{\"attributes\":{\"below\":[{\"id\":\"bcafa362-5563-47d6-b25b-e2bc8c5b9114\",\"type\":\"LinearAxis\"}],\"left\":[{\"id\":\"49c39582-8a89-4c51-a7cd-1d99fe2e602d\",\"type\":\"LinearAxis\"}],\"renderers\":[{\"id\":\"bcafa362-5563-47d6-b25b-e2bc8c5b9114\",\"type\":\"LinearAxis\"},{\"id\":\"129b5aa6-ff4d-49ba-bbe1-b5d9755a2af3\",\"type\":\"Grid\"},{\"id\":\"49c39582-8a89-4c51-a7cd-1d99fe2e602d\",\"type\":\"LinearAxis\"},{\"id\":\"a3568de4-12f9-4b5c-bfd5-1b052e621282\",\"type\":\"Grid\"},{\"id\":\"7a94c89b-df06-4f3e-b089-ee5ce443ca49\",\"type\":\"GlyphRenderer\"}],\"title\":{\"id\":\"d2f3c0b7-497d-42e1-b471-3c1d2b9f4f45\",\"type\":\"Title\"},\"tool_events\":{\"id\":\"b66e710e-3ece-4286-bf0c-daa775205d86\",\"type\":\"ToolEvents\"},\"toolbar\":{\"id\":\"b6c2d652-c2a6-481e-8cbd-abdfd8305208\",\"type\":\"Toolbar\"},\"toolbar_location\":\"above\",\"x_range\":{\"id\":\"6d20bdf8-faac-423e-9507-7977145266e2\",\"type\":\"DataRange1d\"},\"y_range\":{\"id\":\"84a0ce90-a605-44c9-8554-c1fd0fd599fb\",\"type\":\"DataRange1d\"}},\"id\":\"8f32c54f-2357-42ca-973e-61119373406b\",\"subtype\":\"Figure\",\"type\":\"Plot\"},{\"attributes\":{},\"id\":\"57cdf393-1904-47a6-a271-9985cc034e76\",\"type\":\"BasicTickFormatter\"},{\"attributes\":{\"data_source\":{\"id\":\"8d4deadb-69ca-4021-aae1-f9e2560c7712\",\"type\":\"ColumnDataSource\"},\"glyph\":{\"id\":\"7bea0a40-0d08-42da-9ef2-2491e03535a7\",\"type\":\"Quad\"},\"hover_glyph\":null,\"nonselection_glyph\":{\"id\":\"97d18d2f-b5ec-49ca-b1d2-e7f442380c06\",\"type\":\"Quad\"},\"selection_glyph\":null},\"id\":\"7a94c89b-df06-4f3e-b089-ee5ce443ca49\",\"type\":\"GlyphRenderer\"},{\"attributes\":{},\"id\":\"55aee28c-8c8e-41d5-aed6-29eb2faf40c0\",\"type\":\"BasicTickFormatter\"},{\"attributes\":{\"callback\":null},\"id\":\"6d20bdf8-faac-423e-9507-7977145266e2\",\"type\":\"DataRange1d\"},{\"attributes\":{\"bottom\":{\"value\":0},\"fill_color\":{\"value\":\"#1f77b4\"},\"left\":{\"field\":\"left\"},\"line_color\":{\"value\":\"#555555\"},\"right\":{\"field\":\"right\"},\"top\":{\"field\":\"top\"}},\"id\":\"7bea0a40-0d08-42da-9ef2-2491e03535a7\",\"type\":\"Quad\"},{\"attributes\":{\"callback\":null},\"id\":\"84a0ce90-a605-44c9-8554-c1fd0fd599fb\",\"type\":\"DataRange1d\"},{\"attributes\":{\"formatter\":{\"id\":\"55aee28c-8c8e-41d5-aed6-29eb2faf40c0\",\"type\":\"BasicTickFormatter\"},\"plot\":{\"id\":\"8f32c54f-2357-42ca-973e-61119373406b\",\"subtype\":\"Figure\",\"type\":\"Plot\"},\"ticker\":{\"id\":\"47106418-808c-4673-a290-284f28ceea86\",\"type\":\"BasicTicker\"}},\"id\":\"bcafa362-5563-47d6-b25b-e2bc8c5b9114\",\"type\":\"LinearAxis\"},{\"attributes\":{},\"id\":\"47106418-808c-4673-a290-284f28ceea86\",\"type\":\"BasicTicker\"},{\"attributes\":{\"bottom\":{\"value\":0},\"fill_alpha\":{\"value\":0.1},\"fill_color\":{\"value\":\"#1f77b4\"},\"left\":{\"field\":\"left\"},\"line_alpha\":{\"value\":0.1},\"line_color\":{\"value\":\"#1f77b4\"},\"right\":{\"field\":\"right\"},\"top\":{\"field\":\"top\"}},\"id\":\"97d18d2f-b5ec-49ca-b1d2-e7f442380c06\",\"type\":\"Quad\"},{\"attributes\":{\"active_drag\":\"auto\",\"active_scroll\":\"auto\",\"active_tap\":\"auto\",\"tools\":[{\"id\":\"703f9ece-51fe-43c2-ab14-a33c5b646281\",\"type\":\"PanTool\"},{\"id\":\"d071b342-3633-42dc-b8b3-8868e4d41a0d\",\"type\":\"WheelZoomTool\"},{\"id\":\"fa520f50-cf4b-4dcc-8639-ce2a6a9f25d5\",\"type\":\"ResetTool\"},{\"id\":\"fcfffb01-d48b-4cf8-b0e5-23fb16486f15\",\"type\":\"SaveTool\"}]},\"id\":\"b6c2d652-c2a6-481e-8cbd-abdfd8305208\",\"type\":\"Toolbar\"},{\"attributes\":{\"plot\":{\"id\":\"8f32c54f-2357-42ca-973e-61119373406b\",\"subtype\":\"Figure\",\"type\":\"Plot\"}},\"id\":\"fcfffb01-d48b-4cf8-b0e5-23fb16486f15\",\"type\":\"SaveTool\"},{\"attributes\":{\"callback\":null,\"column_names\":[\"left\",\"top\",\"right\"],\"data\":{\"left\":{\"__ndarray__\":\"AAAAAACgnUAfhetRmMnMQB+F61GY79pA16NwPTK940AfhetRmALqQDQzMzP/I/BA16NwPbJG80B7FK5HZWn2QB+F61EYjPlAw/UoXMuu/EBnZmZmftH/QIXrUbgYegFB16NwPXILA0EpXI/Cy5wEQXsUrkclLgZBzczMzH6/B0EfhetR2FAJQXE9Ctcx4gpBw/UoXItzDEEVrkfh5AQOQWdmZmY+lg9BXI/C9cuTEEGF61G4eFwRQa5H4XolJRJB16NwPdLtEkEAAAAAf7YTQSlcj8IrfxRBUrgehdhHFUF7FK5HhRAWQaRwPQoy2RZBzczMzN6hF0H2KFyPi2oYQR+F61E4MxlBSOF6FOX7GUFxPQrXkcQaQZqZmZk+jRtBw/UoXOtVHEHsUbgemB4dQRWuR+FE5x1BPgrXo/GvHkFnZmZmnngfQUjhepSlICBBXI/C9fuEIEFxPQpXUukgQYXrUbioTSFBmpmZGf+xIUGuR+F6VRYiQcP1KNyreiJB16NwPQLfIkHsUbieWEMjQQAAAACvpyNBFa5HYQUMJEEpXI/CW3AkQT4K1yOy1CRBUrgehQg5JUFnZmbmXp0lQXsUrke1ASZBkML1qAtmJkGkcD0KYsomQbkehWu4LidBzczMzA6TJ0HiehQuZfcnQfYoXI+7WyhBC9ej8BHAKEEfhetRaCQpQTMzM7O+iClBSOF6FBXtKUFcj8J1a1EqQXE9CtfBtSpBhetROBgaK0GamZmZbn4rQa5H4frE4itBw/UoXBtHLEHXo3C9cassQexRuB7IDy1BAAAAgB50LUEVrkfhdNgtQSlcj0LLPC5BPgrXoyGhLkFSuB4FeAUvQWdmZmbOaS9BexSuxyTOL0FI4XqUPRkwQVK4HsVoSzBBXI/C9ZN9MEFnZmYmv68wQXE9Clfq4TBBexSuhxUUMUGF61G4QEYxQZDC9ehreDFBmpmZGZeqMUGkcD1KwtwxQa5H4XrtDjJBuR6FqxhBMkHD9SjcQ3MyQc3MzAxvpTJB16NwPZrXMkHhehRuxQkzQexRuJ7wOzNB9ihczxtuM0E=\",\"dtype\":\"float64\",\"shape\":[100]},\"right\":{\"__ndarray__\":\"H4XrUZjJzEAfhetRmO/aQNejcD0yveNAH4XrUZgC6kA0MzMz/yPwQNejcD2yRvNAexSuR2Vp9kAfhetRGIz5QMP1KFzLrvxAZ2ZmZn7R/0CF61G4GHoBQdejcD1yCwNBKVyPwsucBEF7FK5HJS4GQc3MzMx+vwdBH4XrUdhQCUFxPQrXMeIKQcP1KFyLcwxBFa5H4eQEDkFnZmZmPpYPQVyPwvXLkxBBhetRuHhcEUGuR+F6JSUSQdejcD3S7RJBAAAAAH+2E0EpXI/CK38UQVK4HoXYRxVBexSuR4UQFkGkcD0KMtkWQc3MzMzeoRdB9ihcj4tqGEEfhetRODMZQUjhehTl+xlBcT0K15HEGkGamZmZPo0bQcP1KFzrVRxB7FG4HpgeHUEVrkfhROcdQT4K16Pxrx5BZ2ZmZp54H0FI4XqUpSAgQVyPwvX7hCBBcT0KV1LpIEGF61G4qE0hQZqZmRn/sSFBrkfhelUWIkHD9Sjcq3oiQdejcD0C3yJB7FG4nlhDI0EAAAAAr6cjQRWuR2EFDCRBKVyPwltwJEE+CtcjstQkQVK4HoUIOSVBZ2Zm5l6dJUF7FK5HtQEmQZDC9agLZiZBpHA9CmLKJkG5HoVruC4nQc3MzMwOkydB4noULmX3J0H2KFyPu1soQQvXo/ARwChBH4XrUWgkKUEzMzOzvogpQUjhehQV7SlBXI/CdWtRKkFxPQrXwbUqQYXrUTgYGitBmpmZmW5+K0GuR+H6xOIrQcP1KFwbRyxB16NwvXGrLEHsUbgeyA8tQQAAAIAedC1BFa5H4XTYLUEpXI9CyzwuQT4K16MhoS5BUrgeBXgFL0FnZmZmzmkvQXsUrsckzi9BSOF6lD0ZMEFSuB7FaEswQVyPwvWTfTBBZ2ZmJr+vMEFxPQpX6uEwQXsUrocVFDFBhetRuEBGMUGQwvXoa3gxQZqZmRmXqjFBpHA9SsLcMUGuR+F67Q4yQbkehasYQTJBw/Uo3ENzMkHNzMwMb6UyQdejcD2a1zJB4XoUbsUJM0HsUbie8DszQfYoXM8bbjNBAAAAAEegM0E=\",\"dtype\":\"float64\",\"shape\":[100]},\"top\":{\"__ndarray__\":\"H30T8wDCEj+OSQ2YfIPHPn8ImqOn5rQ+nYqAjFEgmj63DGd1+1mPPoQImqOn5nQ+vAxndftZjz68DGd1+1mPPgAAAAAAAAAAfQiao6fmhD6ECJqjp+aEPn0ImqOn5oQ+fQiao6fmdD4AAAAAAAAAAAAAAAAAAAAAAAAAAAAAAAB9CJqjp+Z0PgAAAAAAAAAAAAAAAAAAAAAAAAAAAAAAAAAAAAAAAAAAAAAAAAAAAAAAAAAAAAAAAAAAAAAAAAAAAAAAAAAAAAAAAAAAAAAAAAAAAAAAAAAAfQiao6fmdD4AAAAAAAAAAAAAAAAAAAAAfQiao6fmdD4AAAAAAAAAAAAAAAAAAAAAfQiao6fmdD4AAAAAAAAAAAAAAAAAAAAAAAAAAAAAAAAAAAAAAAAAAH0ImqOn5nQ+AAAAAAAAAAAAAAAAAAAAAAAAAAAAAAAAYgiao6fmdD4AAAAAAAAAAAAAAAAAAAAAAAAAAAAAAAAAAAAAAAAAAAAAAAAAAAAAAAAAAAAAAAAAAAAAAAAAAAAAAAAAAAAAAAAAAAAAAAAAAAAAAAAAAAAAAAAAAAAAAAAAAAAAAAAAAAAAAAAAAAAAAAAAAAAAAAAAAAAAAAAAAAAAAAAAAAAAAAAAAAAAAAAAAAAAAAAAAAAAAAAAAAAAAAAAAAAAAAAAAAAAAAAAAAAAAAAAAAAAAAAAAAAAAAAAAAAAAAAAAAAAAAAAAAAAAAAAAAAAAAAAAAAAAAAAAAAAAAAAAAAAAAAAAAAAAAAAAAAAAAAAAAAAAAAAAAAAAAAAAAAAAAAAAAAAAAAAAAAAAAAAAAAAAAAAAAAAAAAAAAAAAAAAAAAAAAAAAAAAAAAAAAAAAAAAAAAAAAAAAAAAAAAAAAAAAAAAAAAAAAAAAAAAAAAAAAAAAAAAAAAAAAAAAAAAAAAAAAAAAAAAAAAAAAAAAAAAAAAAAAAAAAAAAAAAAAAAAAAAAAAAAAAAAAAAAAAAAAAAAAAAAAAAAAAAAAAAAAAAAAAAAAAAAAAAAAAAAAAAAAAAAAAAAAAAAAAAAAAAmAiao6fmdD4=\",\"dtype\":\"float64\",\"shape\":[100]}}},\"id\":\"8d4deadb-69ca-4021-aae1-f9e2560c7712\",\"type\":\"ColumnDataSource\"},{\"attributes\":{\"plot\":null,\"text\":\"Top-1000 words distribution\"},\"id\":\"d2f3c0b7-497d-42e1-b471-3c1d2b9f4f45\",\"type\":\"Title\"},{\"attributes\":{\"plot\":{\"id\":\"8f32c54f-2357-42ca-973e-61119373406b\",\"subtype\":\"Figure\",\"type\":\"Plot\"}},\"id\":\"fa520f50-cf4b-4dcc-8639-ce2a6a9f25d5\",\"type\":\"ResetTool\"},{\"attributes\":{},\"id\":\"e111b527-3731-4fda-9a33-ddee79f78707\",\"type\":\"BasicTicker\"},{\"attributes\":{\"formatter\":{\"id\":\"57cdf393-1904-47a6-a271-9985cc034e76\",\"type\":\"BasicTickFormatter\"},\"plot\":{\"id\":\"8f32c54f-2357-42ca-973e-61119373406b\",\"subtype\":\"Figure\",\"type\":\"Plot\"},\"ticker\":{\"id\":\"e111b527-3731-4fda-9a33-ddee79f78707\",\"type\":\"BasicTicker\"}},\"id\":\"49c39582-8a89-4c51-a7cd-1d99fe2e602d\",\"type\":\"LinearAxis\"},{\"attributes\":{\"dimension\":1,\"plot\":{\"id\":\"8f32c54f-2357-42ca-973e-61119373406b\",\"subtype\":\"Figure\",\"type\":\"Plot\"},\"ticker\":{\"id\":\"e111b527-3731-4fda-9a33-ddee79f78707\",\"type\":\"BasicTicker\"}},\"id\":\"a3568de4-12f9-4b5c-bfd5-1b052e621282\",\"type\":\"Grid\"},{\"attributes\":{\"plot\":{\"id\":\"8f32c54f-2357-42ca-973e-61119373406b\",\"subtype\":\"Figure\",\"type\":\"Plot\"}},\"id\":\"703f9ece-51fe-43c2-ab14-a33c5b646281\",\"type\":\"PanTool\"},{\"attributes\":{},\"id\":\"b66e710e-3ece-4286-bf0c-daa775205d86\",\"type\":\"ToolEvents\"},{\"attributes\":{\"plot\":{\"id\":\"8f32c54f-2357-42ca-973e-61119373406b\",\"subtype\":\"Figure\",\"type\":\"Plot\"},\"ticker\":{\"id\":\"47106418-808c-4673-a290-284f28ceea86\",\"type\":\"BasicTicker\"}},\"id\":\"129b5aa6-ff4d-49ba-bbe1-b5d9755a2af3\",\"type\":\"Grid\"},{\"attributes\":{\"plot\":{\"id\":\"8f32c54f-2357-42ca-973e-61119373406b\",\"subtype\":\"Figure\",\"type\":\"Plot\"}},\"id\":\"d071b342-3633-42dc-b8b3-8868e4d41a0d\",\"type\":\"WheelZoomTool\"}],\"root_ids\":[\"8f32c54f-2357-42ca-973e-61119373406b\"]},\"title\":\"Bokeh Application\",\"version\":\"0.12.4\"}};\n",
       "            var render_items = [{\"docid\":\"7d28fbc1-9217-40ca-9e9c-9dfd4be2753a\",\"elementid\":\"fabcac6f-25d0-480e-819e-0dba750d1ef5\",\"modelid\":\"8f32c54f-2357-42ca-973e-61119373406b\"}];\n",
       "            \n",
       "            Bokeh.embed.embed_items(docs_json, render_items);\n",
       "          };\n",
       "          if (document.readyState != \"loading\") fn();\n",
       "          else document.addEventListener(\"DOMContentLoaded\", fn);\n",
       "        })();\n",
       "      },\n",
       "      function(Bokeh) {\n",
       "      }\n",
       "    ];\n",
       "  \n",
       "    function run_inline_js() {\n",
       "      \n",
       "      if ((window.Bokeh !== undefined) || (force === true)) {\n",
       "        for (var i = 0; i < inline_js.length; i++) {\n",
       "          inline_js[i](window.Bokeh);\n",
       "        }if (force === true) {\n",
       "          display_loaded();\n",
       "        }} else if (Date.now() < window._bokeh_timeout) {\n",
       "        setTimeout(run_inline_js, 100);\n",
       "      } else if (!window._bokeh_failed_load) {\n",
       "        console.log(\"Bokeh: BokehJS failed to load within specified timeout.\");\n",
       "        window._bokeh_failed_load = true;\n",
       "      } else if (force !== true) {\n",
       "        var cell = $(document.getElementById(\"fabcac6f-25d0-480e-819e-0dba750d1ef5\")).parents('.cell').data().cell;\n",
       "        cell.output_area.append_execute_result(NB_LOAD_WARNING)\n",
       "      }\n",
       "  \n",
       "    }\n",
       "  \n",
       "    if (window._bokeh_is_loading === 0) {\n",
       "      console.log(\"Bokeh: BokehJS loaded, going straight to plotting\");\n",
       "      run_inline_js();\n",
       "    } else {\n",
       "      load_libs(js_urls, function() {\n",
       "        console.log(\"Bokeh: BokehJS plotting callback run at\", now());\n",
       "        run_inline_js();\n",
       "      });\n",
       "    }\n",
       "  }(this));\n",
       "</script>"
      ]
     },
     "metadata": {},
     "output_type": "display_data"
    }
   ],
   "source": [
    "hist, edges = np.histogram(counts_wiki_top1000, density=True, bins=100, normed=True)\n",
    "\n",
    "p = figure(tools=\"pan,wheel_zoom,reset,save\",\n",
    "           toolbar_location=\"above\",\n",
    "           title=\"Top-1000 words distribution\")\n",
    "p.quad(top=hist, bottom=0, left=edges[:-1], right=edges[1:], line_color=\"#555555\")\n",
    "show(p)"
   ]
  },
  {
   "cell_type": "code",
   "execution_count": 39,
   "metadata": {
    "collapsed": false
   },
   "outputs": [
    {
     "name": "stdout",
     "output_type": "stream",
     "text": [
      "['a', 'titanic', 'struggle', 'like', 'melville', 'or', 'hemingway']\n"
     ]
    }
   ],
   "source": [
    "print(sentences_wiki[0])"
   ]
  },
  {
   "cell_type": "code",
   "execution_count": 41,
   "metadata": {
    "collapsed": true
   },
   "outputs": [],
   "source": [
    "model_wiki = Word2Vec(sentences_wiki, size=100, window=5, min_count=5, workers=4)"
   ]
  },
  {
   "cell_type": "code",
   "execution_count": 42,
   "metadata": {
    "collapsed": false
   },
   "outputs": [
    {
     "data": {
      "text/plain": [
       "[('woman', 0.6811784505844116),\n",
       " ('person', 0.6251797080039978),\n",
       " ('boy', 0.6050019264221191),\n",
       " ('girl', 0.6011378169059753),\n",
       " ('soldier', 0.5916647911071777),\n",
       " ('someone', 0.5485020875930786),\n",
       " ('dog', 0.5460191965103149),\n",
       " ('doctor', 0.5423617362976074),\n",
       " ('creature', 0.533031165599823),\n",
       " ('men', 0.5229246616363525)]"
      ]
     },
     "execution_count": 42,
     "metadata": {},
     "output_type": "execute_result"
    }
   ],
   "source": [
    "model_wiki.most_similar(\"man\")"
   ]
  },
  {
   "cell_type": "markdown",
   "metadata": {},
   "source": [
    "#### t-SNE visualization"
   ]
  },
  {
   "cell_type": "code",
   "execution_count": 43,
   "metadata": {
    "collapsed": true
   },
   "outputs": [],
   "source": [
    "words_top_wiki = [w for (w, c) in collections.Counter([w for s in sentences_wiki for w in s]).most_common(1000)]"
   ]
  },
  {
   "cell_type": "code",
   "execution_count": 44,
   "metadata": {
    "collapsed": true
   },
   "outputs": [],
   "source": [
    "# This assumes words_top_wiki is a list of strings, the top 1000 words\n",
    "words_top_vec_wiki = model_wiki[words_top_wiki]\n",
    "\n",
    "tsne = TSNE(n_components=2, random_state=0)\n",
    "words_top_wiki_tsne = tsne.fit_transform(words_top_vec_wiki)"
   ]
  },
  {
   "cell_type": "code",
   "execution_count": 45,
   "metadata": {
    "collapsed": false
   },
   "outputs": [
    {
     "data": {
      "text/html": [
       "\n",
       "\n",
       "    <div class=\"bk-root\">\n",
       "        <div class=\"bk-plotdiv\" id=\"7129a908-1193-4808-8de5-f86efdb1d881\"></div>\n",
       "    </div>\n",
       "<script type=\"text/javascript\">\n",
       "  \n",
       "  (function(global) {\n",
       "    function now() {\n",
       "      return new Date();\n",
       "    }\n",
       "  \n",
       "    var force = false;\n",
       "  \n",
       "    if (typeof (window._bokeh_onload_callbacks) === \"undefined\" || force === true) {\n",
       "      window._bokeh_onload_callbacks = [];\n",
       "      window._bokeh_is_loading = undefined;\n",
       "    }\n",
       "  \n",
       "  \n",
       "    \n",
       "    if (typeof (window._bokeh_timeout) === \"undefined\" || force === true) {\n",
       "      window._bokeh_timeout = Date.now() + 0;\n",
       "      window._bokeh_failed_load = false;\n",
       "    }\n",
       "  \n",
       "    var NB_LOAD_WARNING = {'data': {'text/html':\n",
       "       \"<div style='background-color: #fdd'>\\n\"+\n",
       "       \"<p>\\n\"+\n",
       "       \"BokehJS does not appear to have successfully loaded. If loading BokehJS from CDN, this \\n\"+\n",
       "       \"may be due to a slow or bad network connection. Possible fixes:\\n\"+\n",
       "       \"</p>\\n\"+\n",
       "       \"<ul>\\n\"+\n",
       "       \"<li>re-rerun `output_notebook()` to attempt to load from CDN again, or</li>\\n\"+\n",
       "       \"<li>use INLINE resources instead, as so:</li>\\n\"+\n",
       "       \"</ul>\\n\"+\n",
       "       \"<code>\\n\"+\n",
       "       \"from bokeh.resources import INLINE\\n\"+\n",
       "       \"output_notebook(resources=INLINE)\\n\"+\n",
       "       \"</code>\\n\"+\n",
       "       \"</div>\"}};\n",
       "  \n",
       "    function display_loaded() {\n",
       "      if (window.Bokeh !== undefined) {\n",
       "        document.getElementById(\"7129a908-1193-4808-8de5-f86efdb1d881\").textContent = \"BokehJS successfully loaded.\";\n",
       "      } else if (Date.now() < window._bokeh_timeout) {\n",
       "        setTimeout(display_loaded, 100)\n",
       "      }\n",
       "    }\n",
       "  \n",
       "    function run_callbacks() {\n",
       "      window._bokeh_onload_callbacks.forEach(function(callback) { callback() });\n",
       "      delete window._bokeh_onload_callbacks\n",
       "      console.info(\"Bokeh: all callbacks have finished\");\n",
       "    }\n",
       "  \n",
       "    function load_libs(js_urls, callback) {\n",
       "      window._bokeh_onload_callbacks.push(callback);\n",
       "      if (window._bokeh_is_loading > 0) {\n",
       "        console.log(\"Bokeh: BokehJS is being loaded, scheduling callback at\", now());\n",
       "        return null;\n",
       "      }\n",
       "      if (js_urls == null || js_urls.length === 0) {\n",
       "        run_callbacks();\n",
       "        return null;\n",
       "      }\n",
       "      console.log(\"Bokeh: BokehJS not loaded, scheduling load and callback at\", now());\n",
       "      window._bokeh_is_loading = js_urls.length;\n",
       "      for (var i = 0; i < js_urls.length; i++) {\n",
       "        var url = js_urls[i];\n",
       "        var s = document.createElement('script');\n",
       "        s.src = url;\n",
       "        s.async = false;\n",
       "        s.onreadystatechange = s.onload = function() {\n",
       "          window._bokeh_is_loading--;\n",
       "          if (window._bokeh_is_loading === 0) {\n",
       "            console.log(\"Bokeh: all BokehJS libraries loaded\");\n",
       "            run_callbacks()\n",
       "          }\n",
       "        };\n",
       "        s.onerror = function() {\n",
       "          console.warn(\"failed to load library \" + url);\n",
       "        };\n",
       "        console.log(\"Bokeh: injecting script tag for BokehJS library: \", url);\n",
       "        document.getElementsByTagName(\"head\")[0].appendChild(s);\n",
       "      }\n",
       "    };var element = document.getElementById(\"7129a908-1193-4808-8de5-f86efdb1d881\");\n",
       "    if (element == null) {\n",
       "      console.log(\"Bokeh: ERROR: autoload.js configured with elementid '7129a908-1193-4808-8de5-f86efdb1d881' but no matching script tag was found. \")\n",
       "      return false;\n",
       "    }\n",
       "  \n",
       "    var js_urls = [];\n",
       "  \n",
       "    var inline_js = [\n",
       "      function(Bokeh) {\n",
       "        (function() {\n",
       "          var fn = function() {\n",
       "            var docs_json = {\"59e49e2d-f61c-486c-b2f3-860a3bc73594\":{\"roots\":{\"references\":[{\"attributes\":{\"data_source\":{\"id\":\"cebfca10-948b-4a8f-804b-97b43caf944a\",\"type\":\"ColumnDataSource\"},\"glyph\":{\"id\":\"ea169351-1a1a-4048-8a60-4f8ecaa0706c\",\"type\":\"Circle\"},\"hover_glyph\":null,\"nonselection_glyph\":{\"id\":\"8cfca4c1-6a35-4230-a463-e6f1de4b5b65\",\"type\":\"Circle\"},\"selection_glyph\":null},\"id\":\"74cdc131-2419-47c2-b3b1-09cf68d7b38f\",\"type\":\"GlyphRenderer\"},{\"attributes\":{\"dimension\":1,\"plot\":{\"id\":\"6eb0d904-b414-469e-9056-eeee2517f314\",\"subtype\":\"Figure\",\"type\":\"Plot\"},\"ticker\":{\"id\":\"2f44fa8e-c6ef-4d50-ace9-35203d416e02\",\"type\":\"BasicTicker\"}},\"id\":\"0c78d36a-b994-41ad-a771-5e0f5dbe886d\",\"type\":\"Grid\"},{\"attributes\":{\"callback\":null},\"id\":\"102f1a29-6212-48ba-b7ef-5fdc89555be2\",\"type\":\"DataRange1d\"},{\"attributes\":{\"formatter\":{\"id\":\"f9453628-190c-4262-abef-8556ac827f19\",\"type\":\"BasicTickFormatter\"},\"plot\":{\"id\":\"6eb0d904-b414-469e-9056-eeee2517f314\",\"subtype\":\"Figure\",\"type\":\"Plot\"},\"ticker\":{\"id\":\"2f44fa8e-c6ef-4d50-ace9-35203d416e02\",\"type\":\"BasicTicker\"}},\"id\":\"29f75fe0-e8ef-41e4-86bf-086e977bbceb\",\"type\":\"LinearAxis\"},{\"attributes\":{\"fill_alpha\":{\"value\":0.1},\"fill_color\":{\"value\":\"#1f77b4\"},\"line_alpha\":{\"value\":0.1},\"line_color\":{\"value\":\"#1f77b4\"},\"size\":{\"units\":\"screen\",\"value\":8},\"x\":{\"field\":\"x1\"},\"y\":{\"field\":\"x2\"}},\"id\":\"8cfca4c1-6a35-4230-a463-e6f1de4b5b65\",\"type\":\"Circle\"},{\"attributes\":{\"active_drag\":\"auto\",\"active_scroll\":\"auto\",\"active_tap\":\"auto\",\"tools\":[{\"id\":\"e9d6266f-5aad-4812-bec6-8bdca3ad30db\",\"type\":\"PanTool\"},{\"id\":\"e606e063-2923-469f-8790-92a531d0ceab\",\"type\":\"WheelZoomTool\"},{\"id\":\"ca684bac-e933-4811-83c7-ae97cf07fb96\",\"type\":\"ResetTool\"},{\"id\":\"dcd690e2-ebf3-4f14-ae0d-a7e8350732c6\",\"type\":\"SaveTool\"}]},\"id\":\"44437b46-8341-4075-8f55-87d34c29c0c2\",\"type\":\"Toolbar\"},{\"attributes\":{\"callback\":null,\"column_names\":[\"x2\",\"names\",\"x1\"],\"data\":{\"names\":[\"the\",\"of\",\"and\",\"in\",\"to\",\"a\",\"was\",\"s\",\"on\",\"as\",\"for\",\"that\",\"with\",\"by\",\"is\",\"his\",\"at\",\"he\",\"it\",\"from\",\"were\",\"an\",\"had\",\"which\",\"be\",\"this\",\"but\",\"are\",\"first\",\"not\",\"their\",\"after\",\"one\",\"her\",\"also\",\"its\",\"they\",\"two\",\"or\",\"have\",\"who\",\"new\",\"been\",\"has\",\"she\",\"when\",\"during\",\"time\",\"other\",\"would\",\"into\",\"all\",\"i\",\"more\",\"while\",\"over\",\"game\",\"him\",\"later\",\"only\",\"up\",\"most\",\"three\",\"about\",\"out\",\"between\",\"th\",\"than\",\"there\",\"some\",\"film\",\"may\",\"before\",\"year\",\"made\",\"such\",\"no\",\"second\",\"where\",\"season\",\"years\",\"world\",\"war\",\"however\",\"both\",\"through\",\"then\",\"song\",\"these\",\"being\",\"used\",\"against\",\"them\",\"m\",\"series\",\"album\",\"many\",\"team\",\"city\",\"number\",\"north\",\"became\",\"several\",\"well\",\"part\",\"united\",\"can\",\"including\",\"four\",\"under\",\"state\",\"early\",\"south\",\"music\",\"so\",\"day\",\"episode\",\"following\",\"said\",\"states\",\"american\",\"although\",\"did\",\"known\",\"could\",\"work\",\"began\",\"because\",\"until\",\"t\",\"like\",\"called\",\"released\",\"high\",\"people\",\"british\",\"end\",\"around\",\"since\",\"long\",\"each\",\"life\",\"national\",\"found\",\"west\",\"if\",\"us\",\"best\",\"same\",\"september\",\"along\",\"another\",\"five\",\"million\",\"you\",\"back\",\"took\",\"show\",\"use\",\"km\",\"group\",\"off\",\"final\",\"area\",\"any\",\"august\",\"october\",\"received\",\"century\",\"due\",\"what\",\"line\",\"john\",\"school\",\"east\",\"will\",\"home\",\"june\",\"government\",\"system\",\"single\",\"november\",\"third\",\"july\",\"march\",\"games\",\"large\",\"set\",\"major\",\"april\",\"family\",\"much\",\"general\",\"based\",\"down\",\"left\",\"place\",\"york\",\"army\",\"house\",\"history\",\"just\",\"company\",\"december\",\"name\",\"road\",\"we\",\"included\",\"character\",\"band\",\"played\",\"king\",\"january\",\"six\",\"led\",\"wrote\",\"now\",\"won\",\"main\",\"near\",\"times\",\"according\",\"own\",\"river\",\"d\",\"within\",\"described\",\"those\",\"de\",\"battle\",\"next\",\"video\",\"last\",\"men\",\"league\",\"death\",\"st\",\"named\",\"air\",\"release\",\"record\",\"top\",\"late\",\"way\",\"even\",\"make\",\"man\",\"still\",\"ship\",\"club\",\"species\",\"original\",\"route\",\"great\",\"very\",\"small\",\"force\",\"public\",\"production\",\"old\",\"storm\",\"u\",\"february\",\"built\",\"days\",\"again\",\"held\",\"though\",\"play\",\"members\",\"service\",\"do\",\"division\",\"german\",\"further\",\"role\",\"french\",\"side\",\"university\",\"story\",\"among\",\"having\",\"b\",\"book\",\"h\",\"point\",\"power\",\"player\",\"match\",\"white\",\"often\",\"career\",\"former\",\"water\",\"local\",\"order\",\"continued\",\"park\",\"considered\",\"came\",\"town\",\"england\",\"black\",\"take\",\"despite\",\"without\",\"development\",\"party\",\"form\",\"half\",\"county\",\"support\",\"written\",\"songs\",\"moved\",\"few\",\"period\",\"version\",\"become\",\"island\",\"different\",\"english\",\"military\",\"forces\",\"c\",\"court\",\"little\",\"given\",\"president\",\"lost\",\"church\",\"international\",\"ii\",\"tropical\",\"building\",\"re\",\"london\",\"my\",\"country\",\"performance\",\"tour\",\"using\",\"lead\",\"n\",\"similar\",\"track\",\"street\",\"attack\",\"gave\",\"short\",\"returned\",\"class\",\"royal\",\"went\",\"television\",\"published\",\"land\",\"never\",\"stated\",\"live\",\"produced\",\"per\",\"ships\",\"aircraft\",\"recorded\",\"western\",\"highway\",\"control\",\"children\",\"position\",\"include\",\"right\",\"run\",\"week\",\"star\",\"total\",\"father\",\"throughout\",\"women\",\"how\",\"once\",\"upon\",\"good\",\"design\",\"fire\",\"me\",\"making\",\"love\",\"less\",\"characters\",\"australia\",\"head\",\"sea\",\"himself\",\"central\",\"seven\",\"players\",\"station\",\"away\",\"age\",\"writing\",\"months\",\"night\",\"title\",\"e\",\"young\",\"light\",\"r\",\"instead\",\"red\",\"ft\",\"result\",\"rock\",\"previous\",\"across\",\"ten\",\"return\",\"eight\",\"remained\",\"political\",\"too\",\"james\",\"hurricane\",\"southern\",\"eventually\",\"low\",\"areas\",\"various\",\"style\",\"died\",\"race\",\"law\",\"developed\",\"center\",\"felt\",\"reported\",\"noted\",\"announced\",\"college\",\"created\",\"william\",\"win\",\"construction\",\"america\",\"miles\",\"reached\",\"son\",\"field\",\"japanese\",\"act\",\"performed\",\"should\",\"award\",\"seen\",\"sent\",\"office\",\"together\",\"followed\",\"level\",\"served\",\"northern\",\"taken\",\"killed\",\"full\",\"works\",\"born\",\"project\",\"range\",\"mm\",\"able\",\"chart\",\"common\",\"member\",\"originally\",\"body\",\"george\",\"success\",\"points\",\"located\",\"campaign\",\"australian\",\"rather\",\"football\",\"established\",\"modern\",\"action\",\"addition\",\"stage\",\"thought\",\"appeared\",\"features\",\"others\",\"critics\",\"front\",\"playing\",\"bridge\",\"caused\",\"damage\",\"feet\",\"special\",\"o\",\"started\",\"formed\",\"behind\",\"heavy\",\"post\",\"popular\",\"added\",\"decided\",\"get\",\"david\",\"strong\",\"sold\",\"fourth\",\"present\",\"go\",\"championship\",\"almost\",\"saw\",\"f\",\"every\",\"ground\",\"case\",\"site\",\"see\",\"kingdom\",\"guns\",\"art\",\"initially\",\"command\",\"eastern\",\"close\",\"fleet\",\"soon\",\"director\",\"towards\",\"open\",\"region\",\"population\",\"scene\",\"important\",\"france\",\"recording\",\"awards\",\"completed\",\"worked\",\"working\",\"hall\",\"non\",\"leading\",\"opened\",\"help\",\"free\",\"henry\",\"coast\",\"mother\",\"mi\",\"either\",\"event\",\"ever\",\"l\",\"michael\",\"brought\",\"union\",\"training\",\"generally\",\"weeks\",\"placed\",\"provided\",\"sound\",\"featured\",\"scored\",\"wanted\",\"allowed\",\"least\",\"does\",\"average\",\"navy\",\"cup\",\"events\",\"put\",\"hit\",\"studio\",\"far\",\"wife\",\"records\",\"council\",\"mid\",\"runs\",\"europe\",\"list\",\"troops\",\"believed\",\"example\",\"victory\",\"designed\",\"robert\",\"nine\",\"summer\",\"base\",\"joined\",\"magazine\",\"official\",\"squadron\",\"society\",\"test\",\"washington\",\"rest\",\"media\",\"start\",\"opening\",\"co\",\"replaced\",\"operation\",\"x\",\"month\",\"police\",\"human\",\"highest\",\"european\",\"involved\",\"association\",\"met\",\"hours\",\"shot\",\"successful\",\"radio\",\"saying\",\"big\",\"al\",\"japan\",\"cast\",\"crew\",\"particularly\",\"finished\",\"reviews\",\"mph\",\"available\",\"beginning\",\"earlier\",\"significant\",\"largest\",\"process\",\"captain\",\"forced\",\"review\",\"minutes\",\"brown\",\"change\",\"come\",\"section\",\"lower\",\"taking\",\"real\",\"units\",\"research\",\"social\",\"ended\",\"outside\",\"better\",\"above\",\"praised\",\"charles\",\"space\",\"future\",\"stone\",\"going\",\"relationship\",\"hill\",\"enough\",\"chief\",\"possible\",\"passed\",\"appearance\",\"turned\",\"business\",\"move\",\"increased\",\"must\",\"films\",\"community\",\"previously\",\"canada\",\"thomas\",\"positive\",\"give\",\"parts\",\"goal\",\"female\",\"cross\",\"ordered\",\"thus\",\"winds\",\"round\",\"staff\",\"middle\",\"san\",\"program\",\"california\",\"g\",\"signed\",\"additional\",\"board\",\"lake\",\"find\",\"elements\",\"overall\",\"district\",\"gun\",\"castle\",\"gold\",\"infantry\",\"groups\",\"lines\",\"critical\",\"directed\",\"don\",\"paul\",\"required\",\"money\",\"brother\",\"plan\",\"interest\",\"election\",\"v\",\"musical\",\"prior\",\"germany\",\"spent\",\"attempt\",\"rights\",\"evidence\",\"hand\",\"news\",\"told\",\"quickly\",\"type\",\"turn\",\"sometimes\",\"person\",\"itself\",\"students\",\"usually\",\"grand\",\"personal\",\"claimed\",\"plot\",\"already\",\"asked\",\"whom\",\"port\",\"square\",\"failed\",\"stars\",\"uk\",\"p\",\"term\",\"cover\",\"committee\",\"anti\",\"entire\",\"study\",\"reception\",\"battalion\",\"limited\",\"whose\",\"background\",\"smith\",\"decision\",\"bill\",\"bay\",\"governor\",\"past\",\"introduced\",\"education\",\"blue\",\"indian\",\"score\",\"room\",\"complete\",\"richard\",\"india\",\"especially\",\"press\",\"structure\",\"commander\",\"village\",\"arrived\",\"issue\",\"operations\",\"effects\",\"scenes\",\"response\",\"novel\",\"fifth\",\"estimated\",\"speed\",\"surface\",\"britain\",\"food\",\"ny\",\"peter\",\"our\",\"material\",\"becoming\",\"k\",\"length\",\"carried\",\"larger\",\"science\",\"green\",\"loss\",\"debut\",\"god\",\"teams\",\"voice\",\"shows\",\"flight\",\"earth\",\"minister\",\"queen\",\"writer\",\"pressure\",\"services\",\"running\",\"language\",\"movement\",\"commercial\",\"idea\",\"centre\",\"cut\",\"la\",\"appointed\",\"mark\",\"changes\",\"living\",\"naval\",\"child\",\"department\",\"episodes\",\"industry\",\"woman\",\"civil\",\"defeated\",\"daughter\",\"view\",\"leader\",\"compared\",\"might\",\"entered\",\"remaining\",\"latter\",\"intended\",\"pop\",\"suggested\",\"spanish\",\"network\",\"date\",\"married\",\"shortly\",\"empire\",\"finally\",\"virginia\",\"course\",\"experience\",\"proposed\",\"nearly\",\"winning\",\"report\",\"fans\",\"car\",\"approximately\",\"higher\",\"percent\",\"los\",\"regular\",\"influence\",\"planned\",\"current\",\"leaving\",\"chicago\",\"today\",\"islands\",\"awarded\",\"lack\",\"size\",\"depression\",\"dark\",\"officer\",\"destroyed\",\"fact\",\"nature\",\"associated\",\"wide\",\"railway\",\"changed\",\"tracks\",\"brigade\",\"trade\",\"supported\",\"provide\",\"contract\",\"helped\",\"cost\",\"whether\",\"soviet\",\"self\",\"subsequently\",\"hot\",\"appear\",\"singles\",\"agreed\",\"lyrics\",\"face\",\"countries\",\"longer\",\"immediately\",\"upper\",\"probably\",\"ball\",\"nd\",\"professional\",\"plans\",\"producer\",\"done\",\"corps\",\"feature\",\"your\",\"guitar\",\"lord\",\"soldiers\",\"something\",\"buildings\",\"natural\",\"related\",\"museum\",\"manager\",\"roman\",\"singer\",\"effect\",\"chinese\",\"really\",\"mostly\",\"federal\",\"private\",\"health\",\"location\",\"fort\",\"leave\",\"friends\",\"yet\",\"books\",\"numerous\",\"moving\",\"extended\",\"florida\",\"captured\",\"mixed\",\"billboard\",\"pacific\",\"officers\",\"dance\",\"minor\",\"create\",\"cm\",\"key\",\"christian\",\"jackson\",\"suffered\",\"removed\",\"energy\",\"ran\",\"status\",\"forward\",\"difficult\",\"j\",\"information\",\"issued\",\"edward\",\"got\",\"canadian\",\"fell\",\"remains\",\"includes\",\"always\",\"themselves\",\"here\",\"edition\",\"initial\",\"johnson\",\"regiment\",\"friend\",\"cause\",\"likely\",\"copies\",\"inspired\",\"wind\",\"minute\",\"winter\",\"poor\"],\"x1\":{\"__ndarray__\":\"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\",\"dtype\":\"float64\",\"shape\":[1000]},\"x2\":{\"__ndarray__\":\"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\",\"dtype\":\"float64\",\"shape\":[1000]}}},\"id\":\"cebfca10-948b-4a8f-804b-97b43caf944a\",\"type\":\"ColumnDataSource\"},{\"attributes\":{},\"id\":\"2f44fa8e-c6ef-4d50-ace9-35203d416e02\",\"type\":\"BasicTicker\"},{\"attributes\":{\"plot\":{\"id\":\"6eb0d904-b414-469e-9056-eeee2517f314\",\"subtype\":\"Figure\",\"type\":\"Plot\"},\"ticker\":{\"id\":\"21bbed07-b34b-4181-9859-1a2d77033c38\",\"type\":\"BasicTicker\"}},\"id\":\"8a620322-806c-4860-b6fc-4df90378f9fe\",\"type\":\"Grid\"},{\"attributes\":{},\"id\":\"f9453628-190c-4262-abef-8556ac827f19\",\"type\":\"BasicTickFormatter\"},{\"attributes\":{\"plot\":{\"id\":\"6eb0d904-b414-469e-9056-eeee2517f314\",\"subtype\":\"Figure\",\"type\":\"Plot\"}},\"id\":\"e9d6266f-5aad-4812-bec6-8bdca3ad30db\",\"type\":\"PanTool\"},{\"attributes\":{},\"id\":\"676b645d-a254-4a49-90cc-f062c1c4569d\",\"type\":\"ToolEvents\"},{\"attributes\":{\"formatter\":{\"id\":\"c09f24be-c11a-4d23-81c3-1c6f0fae506c\",\"type\":\"BasicTickFormatter\"},\"plot\":{\"id\":\"6eb0d904-b414-469e-9056-eeee2517f314\",\"subtype\":\"Figure\",\"type\":\"Plot\"},\"ticker\":{\"id\":\"21bbed07-b34b-4181-9859-1a2d77033c38\",\"type\":\"BasicTicker\"}},\"id\":\"407d5c54-e3c4-4fba-a5bb-2fffc746b9e3\",\"type\":\"LinearAxis\"},{\"attributes\":{\"below\":[{\"id\":\"407d5c54-e3c4-4fba-a5bb-2fffc746b9e3\",\"type\":\"LinearAxis\"}],\"left\":[{\"id\":\"29f75fe0-e8ef-41e4-86bf-086e977bbceb\",\"type\":\"LinearAxis\"}],\"renderers\":[{\"id\":\"407d5c54-e3c4-4fba-a5bb-2fffc746b9e3\",\"type\":\"LinearAxis\"},{\"id\":\"8a620322-806c-4860-b6fc-4df90378f9fe\",\"type\":\"Grid\"},{\"id\":\"29f75fe0-e8ef-41e4-86bf-086e977bbceb\",\"type\":\"LinearAxis\"},{\"id\":\"0c78d36a-b994-41ad-a771-5e0f5dbe886d\",\"type\":\"Grid\"},{\"id\":\"74cdc131-2419-47c2-b3b1-09cf68d7b38f\",\"type\":\"GlyphRenderer\"},{\"id\":\"66fabf5f-0eed-4521-8eff-4e5e31db959f\",\"type\":\"LabelSet\"}],\"title\":{\"id\":\"92f93063-ca58-4380-8425-71905d241779\",\"type\":\"Title\"},\"tool_events\":{\"id\":\"676b645d-a254-4a49-90cc-f062c1c4569d\",\"type\":\"ToolEvents\"},\"toolbar\":{\"id\":\"44437b46-8341-4075-8f55-87d34c29c0c2\",\"type\":\"Toolbar\"},\"toolbar_location\":\"above\",\"x_range\":{\"id\":\"102f1a29-6212-48ba-b7ef-5fdc89555be2\",\"type\":\"DataRange1d\"},\"y_range\":{\"id\":\"4d2efa73-c3bd-4e92-8c1c-5e2742293a78\",\"type\":\"DataRange1d\"}},\"id\":\"6eb0d904-b414-469e-9056-eeee2517f314\",\"subtype\":\"Figure\",\"type\":\"Plot\"},{\"attributes\":{\"plot\":{\"id\":\"6eb0d904-b414-469e-9056-eeee2517f314\",\"subtype\":\"Figure\",\"type\":\"Plot\"},\"source\":{\"id\":\"cebfca10-948b-4a8f-804b-97b43caf944a\",\"type\":\"ColumnDataSource\"},\"text\":{\"field\":\"names\"},\"text_align\":\"center\",\"text_color\":{\"value\":\"#555555\"},\"text_font_size\":{\"value\":\"8pt\"},\"x\":{\"field\":\"x1\"},\"y\":{\"field\":\"x2\"},\"y_offset\":{\"value\":6}},\"id\":\"66fabf5f-0eed-4521-8eff-4e5e31db959f\",\"type\":\"LabelSet\"},{\"attributes\":{\"plot\":null,\"text\":\"word2vec T-SNE for most common words\"},\"id\":\"92f93063-ca58-4380-8425-71905d241779\",\"type\":\"Title\"},{\"attributes\":{\"plot\":{\"id\":\"6eb0d904-b414-469e-9056-eeee2517f314\",\"subtype\":\"Figure\",\"type\":\"Plot\"}},\"id\":\"e606e063-2923-469f-8790-92a531d0ceab\",\"type\":\"WheelZoomTool\"},{\"attributes\":{},\"id\":\"c09f24be-c11a-4d23-81c3-1c6f0fae506c\",\"type\":\"BasicTickFormatter\"},{\"attributes\":{\"plot\":{\"id\":\"6eb0d904-b414-469e-9056-eeee2517f314\",\"subtype\":\"Figure\",\"type\":\"Plot\"}},\"id\":\"ca684bac-e933-4811-83c7-ae97cf07fb96\",\"type\":\"ResetTool\"},{\"attributes\":{\"callback\":null},\"id\":\"4d2efa73-c3bd-4e92-8c1c-5e2742293a78\",\"type\":\"DataRange1d\"},{\"attributes\":{},\"id\":\"21bbed07-b34b-4181-9859-1a2d77033c38\",\"type\":\"BasicTicker\"},{\"attributes\":{\"plot\":{\"id\":\"6eb0d904-b414-469e-9056-eeee2517f314\",\"subtype\":\"Figure\",\"type\":\"Plot\"}},\"id\":\"dcd690e2-ebf3-4f14-ae0d-a7e8350732c6\",\"type\":\"SaveTool\"},{\"attributes\":{\"fill_color\":{\"value\":\"#1f77b4\"},\"line_color\":{\"value\":\"#1f77b4\"},\"size\":{\"units\":\"screen\",\"value\":8},\"x\":{\"field\":\"x1\"},\"y\":{\"field\":\"x2\"}},\"id\":\"ea169351-1a1a-4048-8a60-4f8ecaa0706c\",\"type\":\"Circle\"}],\"root_ids\":[\"6eb0d904-b414-469e-9056-eeee2517f314\"]},\"title\":\"Bokeh Application\",\"version\":\"0.12.4\"}};\n",
       "            var render_items = [{\"docid\":\"59e49e2d-f61c-486c-b2f3-860a3bc73594\",\"elementid\":\"7129a908-1193-4808-8de5-f86efdb1d881\",\"modelid\":\"6eb0d904-b414-469e-9056-eeee2517f314\"}];\n",
       "            \n",
       "            Bokeh.embed.embed_items(docs_json, render_items);\n",
       "          };\n",
       "          if (document.readyState != \"loading\") fn();\n",
       "          else document.addEventListener(\"DOMContentLoaded\", fn);\n",
       "        })();\n",
       "      },\n",
       "      function(Bokeh) {\n",
       "      }\n",
       "    ];\n",
       "  \n",
       "    function run_inline_js() {\n",
       "      \n",
       "      if ((window.Bokeh !== undefined) || (force === true)) {\n",
       "        for (var i = 0; i < inline_js.length; i++) {\n",
       "          inline_js[i](window.Bokeh);\n",
       "        }if (force === true) {\n",
       "          display_loaded();\n",
       "        }} else if (Date.now() < window._bokeh_timeout) {\n",
       "        setTimeout(run_inline_js, 100);\n",
       "      } else if (!window._bokeh_failed_load) {\n",
       "        console.log(\"Bokeh: BokehJS failed to load within specified timeout.\");\n",
       "        window._bokeh_failed_load = true;\n",
       "      } else if (force !== true) {\n",
       "        var cell = $(document.getElementById(\"7129a908-1193-4808-8de5-f86efdb1d881\")).parents('.cell').data().cell;\n",
       "        cell.output_area.append_execute_result(NB_LOAD_WARNING)\n",
       "      }\n",
       "  \n",
       "    }\n",
       "  \n",
       "    if (window._bokeh_is_loading === 0) {\n",
       "      console.log(\"Bokeh: BokehJS loaded, going straight to plotting\");\n",
       "      run_inline_js();\n",
       "    } else {\n",
       "      load_libs(js_urls, function() {\n",
       "        console.log(\"Bokeh: BokehJS plotting callback run at\", now());\n",
       "        run_inline_js();\n",
       "      });\n",
       "    }\n",
       "  }(this));\n",
       "</script>"
      ]
     },
     "metadata": {},
     "output_type": "display_data"
    }
   ],
   "source": [
    "p = figure(tools=\"pan,wheel_zoom,reset,save\",\n",
    "           toolbar_location=\"above\",\n",
    "           title=\"word2vec T-SNE for most common words\")\n",
    "\n",
    "source = ColumnDataSource(data=dict(x1=words_top_wiki_tsne[:,0],\n",
    "                                    x2=words_top_wiki_tsne[:,1],\n",
    "                                    names=words_top_wiki))\n",
    "\n",
    "p.scatter(x=\"x1\", y=\"x2\", size=8, source=source)\n",
    "\n",
    "labels = LabelSet(x=\"x1\", y=\"x2\", text=\"names\", y_offset=6,\n",
    "                  text_font_size=\"8pt\", text_color=\"#555555\",\n",
    "                  source=source, text_align='center')\n",
    "p.add_layout(labels)\n",
    "\n",
    "show(p)"
   ]
  },
  {
   "cell_type": "code",
   "execution_count": null,
   "metadata": {
    "collapsed": true
   },
   "outputs": [],
   "source": []
  }
 ],
 "metadata": {
  "anaconda-cloud": {},
  "kernelspec": {
   "display_name": "Python 3",
   "language": "python",
   "name": "python3"
  },
  "language_info": {
   "codemirror_mode": {
    "name": "ipython",
    "version": 3
   },
   "file_extension": ".py",
   "mimetype": "text/x-python",
   "name": "python",
   "nbconvert_exporter": "python",
   "pygments_lexer": "ipython3",
   "version": "3.5.2"
  }
 },
 "nbformat": 4,
 "nbformat_minor": 0
}
